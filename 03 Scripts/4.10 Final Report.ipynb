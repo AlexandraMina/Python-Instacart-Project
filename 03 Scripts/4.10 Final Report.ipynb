{
 "cells": [
  {
   "cell_type": "code",
   "execution_count": 1,
   "id": "14532d1a-87d1-4dca-8288-33d731fc445d",
   "metadata": {},
   "outputs": [],
   "source": [
    "# Importing libraries\n",
    "import pandas as pd\n",
    "import numpy as np\n",
    "import os"
   ]
  },
  {
   "cell_type": "code",
   "execution_count": 3,
   "id": "fae678df-3a24-459b-881a-a75bb080a279",
   "metadata": {},
   "outputs": [],
   "source": [
    "# Defining path\n",
    "path = r'C:\\Users\\35196\\Documents\\Alexandra\\Data Analytics Program\\02 Immersion\\4. Python Fundamentals for Data Analysts\\Instacart Basket Analysis'"
   ]
  },
  {
   "cell_type": "code",
   "execution_count": 3,
   "id": "0541595b-e99e-4b48-b483-c049a8809ca9",
   "metadata": {},
   "outputs": [
    {
     "data": {
      "text/plain": [
       "(3421083, 7)"
      ]
     },
     "execution_count": 3,
     "metadata": {},
     "output_type": "execute_result"
    }
   ],
   "source": [
    "# Checking Order - orignal data\n",
    "df_ords = pd.read_csv(os.path.join(path, '02 Data', 'Original Data', 'orders.csv'), index_col = False)\n",
    "df_ords.shape"
   ]
  },
  {
   "cell_type": "code",
   "execution_count": 4,
   "id": "eee5bb20-31b4-4115-961f-e105ffcc236b",
   "metadata": {},
   "outputs": [
    {
     "data": {
      "text/plain": [
       "(32434489, 4)"
      ]
     },
     "execution_count": 4,
     "metadata": {},
     "output_type": "execute_result"
    }
   ],
   "source": [
    "# Checking Products prior - original data\n",
    "df_prods_prior = pd.read_csv(os.path.join(path, '02 Data', 'Original Data', 'orders_products_prior.csv'), index_col = False)\n",
    "df_prods_prior.shape"
   ]
  },
  {
   "cell_type": "code",
   "execution_count": 5,
   "id": "e11f4c1c-457b-4258-8605-8249f6f3b5ed",
   "metadata": {},
   "outputs": [
    {
     "data": {
      "text/plain": [
       "(49693, 5)"
      ]
     },
     "execution_count": 5,
     "metadata": {},
     "output_type": "execute_result"
    }
   ],
   "source": [
    "# Checking Products - original data\n",
    "df_prods = pd.read_csv(os.path.join(path, '02 Data', 'Original Data', 'products.csv'), index_col = False)\n",
    "df_prods.shape"
   ]
  },
  {
   "cell_type": "code",
   "execution_count": 6,
   "id": "7b17cd56-3873-44ce-ace1-03244fe6c595",
   "metadata": {},
   "outputs": [
    {
     "data": {
      "text/plain": [
       "(206209, 10)"
      ]
     },
     "execution_count": 6,
     "metadata": {},
     "output_type": "execute_result"
    }
   ],
   "source": [
    "# Checking Customers - original data\n",
    "df_cust = pd.read_csv(os.path.join(path, '02 Data', 'Original Data', 'customers.csv'), index_col = False)\n",
    "df_cust.shape"
   ]
  },
  {
   "cell_type": "code",
   "execution_count": null,
   "id": "0fd1769d-e25e-4f8b-81fc-f04e01937c69",
   "metadata": {},
   "outputs": [],
   "source": []
  },
  {
   "cell_type": "code",
   "execution_count": 7,
   "id": "67b7848f-4873-4c88-ab88-26ea144bfe05",
   "metadata": {},
   "outputs": [
    {
     "data": {
      "text/plain": [
       "(3421083, 8)"
      ]
     },
     "execution_count": 7,
     "metadata": {},
     "output_type": "execute_result"
    }
   ],
   "source": [
    "# Checking Order - after consistency checks\n",
    "df_ords_check = pd.read_csv(os.path.join(path, '02 Data', 'Prepared Data', 'orders_checked.csv'), index_col = False)\n",
    "df_ords_check.shape"
   ]
  },
  {
   "cell_type": "code",
   "execution_count": 8,
   "id": "40e3eb06-fb1f-4750-a3e9-10fe29984eac",
   "metadata": {},
   "outputs": [
    {
     "data": {
      "text/plain": [
       "(49672, 6)"
      ]
     },
     "execution_count": 8,
     "metadata": {},
     "output_type": "execute_result"
    }
   ],
   "source": [
    "# Checking Products - after consistency checks\n",
    "df_prods_check = pd.read_csv(os.path.join(path, '02 Data', 'Prepared Data', 'products_checked.csv'), index_col = False)\n",
    "df_prods_check.shape"
   ]
  },
  {
   "cell_type": "code",
   "execution_count": 9,
   "id": "7fa7db54-f1dd-49ad-9527-73e56127a3fa",
   "metadata": {},
   "outputs": [
    {
     "data": {
      "text/plain": [
       "(32434489, 12)"
      ]
     },
     "execution_count": 9,
     "metadata": {},
     "output_type": "execute_result"
    }
   ],
   "source": [
    "# Checking \n",
    "ords_prods_combined =pd.read_pickle(os.path.join(path, '02 Data', 'Prepared Data', 'Orders_products_combined.pkl'))\n",
    "ords_prods_combined.shape"
   ]
  },
  {
   "cell_type": "code",
   "execution_count": 11,
   "id": "3b01fd75-f07b-4303-8c6d-2460a19e523e",
   "metadata": {},
   "outputs": [
    {
     "data": {
      "text/plain": [
       "(32404859, 17)"
      ]
     },
     "execution_count": 11,
     "metadata": {},
     "output_type": "execute_result"
    }
   ],
   "source": [
    "ords_prods_merged =pd.read_pickle(os.path.join(path, '02 Data', 'Prepared Data', 'ords_prods_merge.pkl'))\n",
    "ords_prods_merged.shape"
   ]
  },
  {
   "cell_type": "code",
   "execution_count": 4,
   "id": "8bdfe846-8c10-47c5-a7bc-26fbcaa5273c",
   "metadata": {},
   "outputs": [
    {
     "data": {
      "text/plain": [
       "(32404859, 35)"
      ]
     },
     "execution_count": 4,
     "metadata": {},
     "output_type": "execute_result"
    }
   ],
   "source": [
    "all =pd.read_pickle(os.path.join(path, '02 Data', 'Prepared Data', 'orders_products_customers_aggregated.pkl'))\n",
    "all.shape"
   ]
  },
  {
   "cell_type": "code",
   "execution_count": 7,
   "id": "25fcfd66-e687-4011-ba14-25b051388f30",
   "metadata": {},
   "outputs": [
    {
     "name": "stdout",
     "output_type": "stream",
     "text": [
      "<class 'pandas.core.frame.DataFrame'>\n",
      "RangeIndex: 32404859 entries, 0 to 32404858\n",
      "Data columns (total 35 columns):\n",
      " #   Column                         Dtype   \n",
      "---  ------                         -----   \n",
      " 0   Unnamed: 0_x                   int64   \n",
      " 1   order_id                       int64   \n",
      " 2   user_id                        int64   \n",
      " 3   eval_set                       object  \n",
      " 4   order_number                   int64   \n",
      " 5   order_dow                      int64   \n",
      " 6   order_hour_of_day              int64   \n",
      " 7   days_since_prior_order         float64 \n",
      " 8   product_id                     int64   \n",
      " 9   add_to_cart_order              int64   \n",
      " 10  reordered                      int64   \n",
      " 11  Unnamed: 0_y                   int64   \n",
      " 12  product_name                   object  \n",
      " 13  aisle_id                       int64   \n",
      " 14  department_id                  int64   \n",
      " 15  prices                         float64 \n",
      " 16  price_range                    object  \n",
      " 17  busiest_days                   object  \n",
      " 18  busiest_period_of_day          object  \n",
      " 19  max_order                      int64   \n",
      " 20  loyalty_flag                   object  \n",
      " 21  avg_spender                    float64 \n",
      " 22  spender_flag                   object  \n",
      " 23  median_days_since_prior_order  float64 \n",
      " 24  frequency_flag                 object  \n",
      " 25  first_name                     object  \n",
      " 26  last_name                      object  \n",
      " 27  gender                         object  \n",
      " 28  state                          object  \n",
      " 29  age                            int64   \n",
      " 30  date_joined                    object  \n",
      " 31  n_dependants                   int64   \n",
      " 32  marital_status                 object  \n",
      " 33  income                         int64   \n",
      " 34  _merge                         category\n",
      "dtypes: category(1), float64(4), int64(16), object(14)\n",
      "memory usage: 8.2+ GB\n"
     ]
    }
   ],
   "source": [
    "all.info()"
   ]
  },
  {
   "cell_type": "code",
   "execution_count": 5,
   "id": "371e80f7-3ddf-4a66-8c67-5a64c366b10d",
   "metadata": {},
   "outputs": [
    {
     "data": {
      "text/plain": [
       "max_order\n",
       "99    1171333\n",
       "8      811843\n",
       "6      811396\n",
       "9      810213\n",
       "7      803979\n",
       "       ...   \n",
       "97      44949\n",
       "98      44587\n",
       "96      40453\n",
       "2           6\n",
       "1           5\n",
       "Name: count, Length: 99, dtype: int64"
      ]
     },
     "execution_count": 5,
     "metadata": {},
     "output_type": "execute_result"
    }
   ],
   "source": [
    "all['max_order'].value_counts()"
   ]
  },
  {
   "cell_type": "code",
   "execution_count": 6,
   "id": "44267086-1643-430d-b99b-00880a820af2",
   "metadata": {},
   "outputs": [
    {
     "data": {
      "text/plain": [
       "(30964564, 35)"
      ]
     },
     "execution_count": 6,
     "metadata": {},
     "output_type": "execute_result"
    }
   ],
   "source": [
    "high =pd.read_pickle(os.path.join(path, '02 Data', 'Prepared Data', 'ords_prods_custs_merge_highactivity.pkl'))\n",
    "high.shape"
   ]
  },
  {
   "cell_type": "code",
   "execution_count": 8,
   "id": "f44832cd-676f-48f3-9763-6b20af04a4bf",
   "metadata": {},
   "outputs": [
    {
     "name": "stdout",
     "output_type": "stream",
     "text": [
      "<class 'pandas.core.frame.DataFrame'>\n",
      "Index: 30964564 entries, 0 to 32404854\n",
      "Data columns (total 35 columns):\n",
      " #   Column                         Dtype   \n",
      "---  ------                         -----   \n",
      " 0   Unnamed: 0_x                   int64   \n",
      " 1   order_id                       int64   \n",
      " 2   user_id                        int64   \n",
      " 3   eval_set                       object  \n",
      " 4   order_number                   int64   \n",
      " 5   order_dow                      int64   \n",
      " 6   order_hour_of_day              int64   \n",
      " 7   days_since_prior_order         float64 \n",
      " 8   product_id                     int64   \n",
      " 9   add_to_cart_order              int64   \n",
      " 10  reordered                      int64   \n",
      " 11  Unnamed: 0_y                   int64   \n",
      " 12  product_name                   object  \n",
      " 13  aisle_id                       int64   \n",
      " 14  department_id                  int64   \n",
      " 15  prices                         float64 \n",
      " 16  price_range                    object  \n",
      " 17  busiest_days                   object  \n",
      " 18  busiest_period_of_day          object  \n",
      " 19  max_order                      int64   \n",
      " 20  loyalty_flag                   object  \n",
      " 21  avg_spender                    float64 \n",
      " 22  spender_flag                   object  \n",
      " 23  median_days_since_prior_order  float64 \n",
      " 24  frequency_flag                 object  \n",
      " 25  gender                         object  \n",
      " 26  state                          object  \n",
      " 27  age                            int64   \n",
      " 28  date_joined                    object  \n",
      " 29  n_dependants                   int64   \n",
      " 30  marital_status                 object  \n",
      " 31  income                         int64   \n",
      " 32  _merge                         category\n",
      " 33  region                         object  \n",
      " 34  activity                       object  \n",
      "dtypes: category(1), float64(4), int64(16), object(14)\n",
      "memory usage: 8.1+ GB\n"
     ]
    }
   ],
   "source": [
    "high.info()"
   ]
  },
  {
   "cell_type": "code",
   "execution_count": null,
   "id": "7cbb016f-97a7-4988-925b-1abbac92d7b0",
   "metadata": {},
   "outputs": [],
   "source": []
  }
 ],
 "metadata": {
  "kernelspec": {
   "display_name": "Python 3 (ipykernel)",
   "language": "python",
   "name": "python3"
  },
  "language_info": {
   "codemirror_mode": {
    "name": "ipython",
    "version": 3
   },
   "file_extension": ".py",
   "mimetype": "text/x-python",
   "name": "python",
   "nbconvert_exporter": "python",
   "pygments_lexer": "ipython3",
   "version": "3.11.7"
  }
 },
 "nbformat": 4,
 "nbformat_minor": 5
}
