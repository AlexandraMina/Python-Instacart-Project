{
 "cells": [
  {
   "cell_type": "markdown",
   "id": "7b3737f6-ab57-4579-90fd-9bee7801d049",
   "metadata": {},
   "source": [
    "# Task 4.9\n",
    "# Part 1"
   ]
  },
  {
   "cell_type": "markdown",
   "id": "efc37897-2f83-4f13-8d25-cc6b601d7bf8",
   "metadata": {},
   "source": [
    "# Step 3 - Import your analysis libraries, as well as your new customer data set as a dataframe"
   ]
  },
  {
   "cell_type": "code",
   "execution_count": 1,
   "id": "69f72e23-6621-41ad-8f07-0f2268e701c8",
   "metadata": {},
   "outputs": [],
   "source": [
    "# Importing libraries\n",
    "import pandas as pd\n",
    "import numpy as np\n",
    "import os\n",
    "import matplotlib.pyplot as plt\n",
    "import seaborn as sns\n",
    "import scipy"
   ]
  },
  {
   "cell_type": "code",
   "execution_count": 2,
   "id": "60df0a44-6bd8-423d-8765-6e11a5371e54",
   "metadata": {},
   "outputs": [],
   "source": [
    "# Path\n",
    "path = r'C:\\Users\\35196\\Documents\\Alexandra\\Data Analytics Program\\02 Immersion\\4. Python Fundamentals for Data Analysts\\Instacart Basket Analysis'"
   ]
  },
  {
   "cell_type": "code",
   "execution_count": 3,
   "id": "6193c222-b46c-45f2-bf00-8512d434b263",
   "metadata": {},
   "outputs": [],
   "source": [
    "# Import new customer data\n",
    "customers = pd.read_csv(os.path.join(path, '02 Data', 'Original Data', 'customers.csv'))"
   ]
  },
  {
   "cell_type": "code",
   "execution_count": 4,
   "id": "836e75a5-dd9a-4f87-a946-020a48331934",
   "metadata": {},
   "outputs": [
    {
     "data": {
      "text/html": [
       "<div>\n",
       "<style scoped>\n",
       "    .dataframe tbody tr th:only-of-type {\n",
       "        vertical-align: middle;\n",
       "    }\n",
       "\n",
       "    .dataframe tbody tr th {\n",
       "        vertical-align: top;\n",
       "    }\n",
       "\n",
       "    .dataframe thead th {\n",
       "        text-align: right;\n",
       "    }\n",
       "</style>\n",
       "<table border=\"1\" class=\"dataframe\">\n",
       "  <thead>\n",
       "    <tr style=\"text-align: right;\">\n",
       "      <th></th>\n",
       "      <th>user_id</th>\n",
       "      <th>First Name</th>\n",
       "      <th>Surnam</th>\n",
       "      <th>Gender</th>\n",
       "      <th>STATE</th>\n",
       "      <th>Age</th>\n",
       "      <th>date_joined</th>\n",
       "      <th>n_dependants</th>\n",
       "      <th>fam_status</th>\n",
       "      <th>income</th>\n",
       "    </tr>\n",
       "  </thead>\n",
       "  <tbody>\n",
       "    <tr>\n",
       "      <th>0</th>\n",
       "      <td>26711</td>\n",
       "      <td>Deborah</td>\n",
       "      <td>Esquivel</td>\n",
       "      <td>Female</td>\n",
       "      <td>Missouri</td>\n",
       "      <td>48</td>\n",
       "      <td>1/1/2017</td>\n",
       "      <td>3</td>\n",
       "      <td>married</td>\n",
       "      <td>165665</td>\n",
       "    </tr>\n",
       "    <tr>\n",
       "      <th>1</th>\n",
       "      <td>33890</td>\n",
       "      <td>Patricia</td>\n",
       "      <td>Hart</td>\n",
       "      <td>Female</td>\n",
       "      <td>New Mexico</td>\n",
       "      <td>36</td>\n",
       "      <td>1/1/2017</td>\n",
       "      <td>0</td>\n",
       "      <td>single</td>\n",
       "      <td>59285</td>\n",
       "    </tr>\n",
       "    <tr>\n",
       "      <th>2</th>\n",
       "      <td>65803</td>\n",
       "      <td>Kenneth</td>\n",
       "      <td>Farley</td>\n",
       "      <td>Male</td>\n",
       "      <td>Idaho</td>\n",
       "      <td>35</td>\n",
       "      <td>1/1/2017</td>\n",
       "      <td>2</td>\n",
       "      <td>married</td>\n",
       "      <td>99568</td>\n",
       "    </tr>\n",
       "    <tr>\n",
       "      <th>3</th>\n",
       "      <td>125935</td>\n",
       "      <td>Michelle</td>\n",
       "      <td>Hicks</td>\n",
       "      <td>Female</td>\n",
       "      <td>Iowa</td>\n",
       "      <td>40</td>\n",
       "      <td>1/1/2017</td>\n",
       "      <td>0</td>\n",
       "      <td>single</td>\n",
       "      <td>42049</td>\n",
       "    </tr>\n",
       "    <tr>\n",
       "      <th>4</th>\n",
       "      <td>130797</td>\n",
       "      <td>Ann</td>\n",
       "      <td>Gilmore</td>\n",
       "      <td>Female</td>\n",
       "      <td>Maryland</td>\n",
       "      <td>26</td>\n",
       "      <td>1/1/2017</td>\n",
       "      <td>1</td>\n",
       "      <td>married</td>\n",
       "      <td>40374</td>\n",
       "    </tr>\n",
       "  </tbody>\n",
       "</table>\n",
       "</div>"
      ],
      "text/plain": [
       "   user_id First Name    Surnam  Gender       STATE  Age date_joined  \\\n",
       "0    26711    Deborah  Esquivel  Female    Missouri   48    1/1/2017   \n",
       "1    33890   Patricia      Hart  Female  New Mexico   36    1/1/2017   \n",
       "2    65803    Kenneth    Farley    Male       Idaho   35    1/1/2017   \n",
       "3   125935   Michelle     Hicks  Female        Iowa   40    1/1/2017   \n",
       "4   130797        Ann   Gilmore  Female    Maryland   26    1/1/2017   \n",
       "\n",
       "   n_dependants fam_status  income  \n",
       "0             3    married  165665  \n",
       "1             0     single   59285  \n",
       "2             2    married   99568  \n",
       "3             0     single   42049  \n",
       "4             1    married   40374  "
      ]
     },
     "execution_count": 4,
     "metadata": {},
     "output_type": "execute_result"
    }
   ],
   "source": [
    "# Checking new data\n",
    "customers.head()"
   ]
  },
  {
   "cell_type": "code",
   "execution_count": 5,
   "id": "391a7388-fb40-446e-9f55-684fc80ff52a",
   "metadata": {},
   "outputs": [
    {
     "data": {
      "text/plain": [
       "(206209, 10)"
      ]
     },
     "execution_count": 5,
     "metadata": {},
     "output_type": "execute_result"
    }
   ],
   "source": [
    "customers.shape"
   ]
  },
  {
   "cell_type": "code",
   "execution_count": 6,
   "id": "fd5272e7-ad24-44bd-a3bf-1fcc201d542c",
   "metadata": {},
   "outputs": [
    {
     "data": {
      "text/html": [
       "<div>\n",
       "<style scoped>\n",
       "    .dataframe tbody tr th:only-of-type {\n",
       "        vertical-align: middle;\n",
       "    }\n",
       "\n",
       "    .dataframe tbody tr th {\n",
       "        vertical-align: top;\n",
       "    }\n",
       "\n",
       "    .dataframe thead th {\n",
       "        text-align: right;\n",
       "    }\n",
       "</style>\n",
       "<table border=\"1\" class=\"dataframe\">\n",
       "  <thead>\n",
       "    <tr style=\"text-align: right;\">\n",
       "      <th></th>\n",
       "      <th>user_id</th>\n",
       "      <th>Age</th>\n",
       "      <th>n_dependants</th>\n",
       "      <th>income</th>\n",
       "    </tr>\n",
       "  </thead>\n",
       "  <tbody>\n",
       "    <tr>\n",
       "      <th>count</th>\n",
       "      <td>206209.000000</td>\n",
       "      <td>206209.000000</td>\n",
       "      <td>206209.000000</td>\n",
       "      <td>206209.000000</td>\n",
       "    </tr>\n",
       "    <tr>\n",
       "      <th>mean</th>\n",
       "      <td>103105.000000</td>\n",
       "      <td>49.501646</td>\n",
       "      <td>1.499823</td>\n",
       "      <td>94632.852548</td>\n",
       "    </tr>\n",
       "    <tr>\n",
       "      <th>std</th>\n",
       "      <td>59527.555167</td>\n",
       "      <td>18.480962</td>\n",
       "      <td>1.118433</td>\n",
       "      <td>42473.786988</td>\n",
       "    </tr>\n",
       "    <tr>\n",
       "      <th>min</th>\n",
       "      <td>1.000000</td>\n",
       "      <td>18.000000</td>\n",
       "      <td>0.000000</td>\n",
       "      <td>25903.000000</td>\n",
       "    </tr>\n",
       "    <tr>\n",
       "      <th>25%</th>\n",
       "      <td>51553.000000</td>\n",
       "      <td>33.000000</td>\n",
       "      <td>0.000000</td>\n",
       "      <td>59874.000000</td>\n",
       "    </tr>\n",
       "    <tr>\n",
       "      <th>50%</th>\n",
       "      <td>103105.000000</td>\n",
       "      <td>49.000000</td>\n",
       "      <td>1.000000</td>\n",
       "      <td>93547.000000</td>\n",
       "    </tr>\n",
       "    <tr>\n",
       "      <th>75%</th>\n",
       "      <td>154657.000000</td>\n",
       "      <td>66.000000</td>\n",
       "      <td>3.000000</td>\n",
       "      <td>124244.000000</td>\n",
       "    </tr>\n",
       "    <tr>\n",
       "      <th>max</th>\n",
       "      <td>206209.000000</td>\n",
       "      <td>81.000000</td>\n",
       "      <td>3.000000</td>\n",
       "      <td>593901.000000</td>\n",
       "    </tr>\n",
       "  </tbody>\n",
       "</table>\n",
       "</div>"
      ],
      "text/plain": [
       "             user_id            Age   n_dependants         income\n",
       "count  206209.000000  206209.000000  206209.000000  206209.000000\n",
       "mean   103105.000000      49.501646       1.499823   94632.852548\n",
       "std     59527.555167      18.480962       1.118433   42473.786988\n",
       "min         1.000000      18.000000       0.000000   25903.000000\n",
       "25%     51553.000000      33.000000       0.000000   59874.000000\n",
       "50%    103105.000000      49.000000       1.000000   93547.000000\n",
       "75%    154657.000000      66.000000       3.000000  124244.000000\n",
       "max    206209.000000      81.000000       3.000000  593901.000000"
      ]
     },
     "execution_count": 6,
     "metadata": {},
     "output_type": "execute_result"
    }
   ],
   "source": [
    "customers.describe()"
   ]
  },
  {
   "cell_type": "code",
   "execution_count": 7,
   "id": "f39d8200-d007-456d-a370-b1af752e5b65",
   "metadata": {},
   "outputs": [
    {
     "name": "stdout",
     "output_type": "stream",
     "text": [
      "<class 'pandas.core.frame.DataFrame'>\n",
      "RangeIndex: 206209 entries, 0 to 206208\n",
      "Data columns (total 10 columns):\n",
      " #   Column        Non-Null Count   Dtype \n",
      "---  ------        --------------   ----- \n",
      " 0   user_id       206209 non-null  int64 \n",
      " 1   First Name    194950 non-null  object\n",
      " 2   Surnam        206209 non-null  object\n",
      " 3   Gender        206209 non-null  object\n",
      " 4   STATE         206209 non-null  object\n",
      " 5   Age           206209 non-null  int64 \n",
      " 6   date_joined   206209 non-null  object\n",
      " 7   n_dependants  206209 non-null  int64 \n",
      " 8   fam_status    206209 non-null  object\n",
      " 9   income        206209 non-null  int64 \n",
      "dtypes: int64(4), object(6)\n",
      "memory usage: 15.7+ MB\n"
     ]
    }
   ],
   "source": [
    "customers.info()"
   ]
  },
  {
   "cell_type": "markdown",
   "id": "0a487f03-db4e-4a53-86ee-1f5e7145de93",
   "metadata": {},
   "source": [
    "# Step 4 - Wrangle the data so that it follows consistent logic"
   ]
  },
  {
   "cell_type": "code",
   "execution_count": 8,
   "id": "797dd220-9923-42d0-993e-5b4b9a861cae",
   "metadata": {},
   "outputs": [],
   "source": [
    "# Rename the variables to bring similar format"
   ]
  },
  {
   "cell_type": "code",
   "execution_count": 9,
   "id": "37177226-4d9d-4f9f-b20f-8a905d73798a",
   "metadata": {},
   "outputs": [],
   "source": [
    "# Rename First Name as first_name\n",
    "customers.rename(columns = {'First Name' : 'first_name'}, inplace = True)"
   ]
  },
  {
   "cell_type": "code",
   "execution_count": 10,
   "id": "e797a6d4-e1b3-48ac-bb40-76b43cc1a1ac",
   "metadata": {},
   "outputs": [],
   "source": [
    "# Rename Surnam as last_name\n",
    "customers.rename(columns = {'Surnam' : 'last_name'}, inplace = True)"
   ]
  },
  {
   "cell_type": "code",
   "execution_count": 11,
   "id": "b1e012f1-464c-419d-a98d-9503e7cb040e",
   "metadata": {},
   "outputs": [],
   "source": [
    "# Rename Gender as gender\n",
    "customers.rename(columns = {'Gender' : 'gender'}, inplace = True)"
   ]
  },
  {
   "cell_type": "code",
   "execution_count": 12,
   "id": "170e14ab-9a72-41bc-8a6c-af194d78ea8c",
   "metadata": {},
   "outputs": [],
   "source": [
    "# Rename STATE as state\n",
    "customers.rename(columns = {'STATE' : 'state'}, inplace = True)"
   ]
  },
  {
   "cell_type": "code",
   "execution_count": 13,
   "id": "657f8cc0-e909-43ac-b20d-bccd936034af",
   "metadata": {},
   "outputs": [],
   "source": [
    "# Rename Age as age\n",
    "customers.rename(columns = {'Age' : 'age'}, inplace = True)"
   ]
  },
  {
   "cell_type": "code",
   "execution_count": 14,
   "id": "d6c01f92-0f7a-48c3-99b6-ff506b6eb9ce",
   "metadata": {},
   "outputs": [],
   "source": [
    "# Rename fam_status as marital_status\n",
    "customers.rename(columns = {'fam_status' : 'marital_status'}, inplace = True)"
   ]
  },
  {
   "cell_type": "code",
   "execution_count": 15,
   "id": "048c3501-15ca-4cb2-a67f-781d0f3c810e",
   "metadata": {},
   "outputs": [
    {
     "data": {
      "text/plain": [
       "Index(['user_id', 'first_name', 'last_name', 'gender', 'state', 'age',\n",
       "       'date_joined', 'n_dependants', 'marital_status', 'income'],\n",
       "      dtype='object')"
      ]
     },
     "execution_count": 15,
     "metadata": {},
     "output_type": "execute_result"
    }
   ],
   "source": [
    "# Checking\n",
    "customers.columns"
   ]
  },
  {
   "cell_type": "markdown",
   "id": "f001d1c0-1fd3-4bdc-a715-2b04ca422b13",
   "metadata": {},
   "source": [
    "6 variables were renamed and now all the columns have a similar form"
   ]
  },
  {
   "cell_type": "markdown",
   "id": "6e96af78-123e-4e0e-8748-ad2e5a4386f4",
   "metadata": {},
   "source": [
    "For now I don't think I need to drop any column. Maybe for data protection reasons I believe I could drop first_name and last_name."
   ]
  },
  {
   "cell_type": "markdown",
   "id": "1ac215b7-5d33-4199-a5ef-b052f2827a1c",
   "metadata": {},
   "source": [
    "# Step 5 - Complete the fundamental data quality and consistency checks you’ve learned throughout this Achievement"
   ]
  },
  {
   "cell_type": "code",
   "execution_count": 16,
   "id": "b6e1fc27-9e89-49a4-8f68-33c3073dbf31",
   "metadata": {},
   "outputs": [
    {
     "data": {
      "text/plain": [
       "user_id               0\n",
       "first_name        11259\n",
       "last_name             0\n",
       "gender                0\n",
       "state                 0\n",
       "age                   0\n",
       "date_joined           0\n",
       "n_dependants          0\n",
       "marital_status        0\n",
       "income                0\n",
       "dtype: int64"
      ]
     },
     "execution_count": 16,
     "metadata": {},
     "output_type": "execute_result"
    }
   ],
   "source": [
    "# Checking missing values\n",
    "customers.isnull().sum()"
   ]
  },
  {
   "cell_type": "markdown",
   "id": "8007aa31-13bf-40df-b786-bbab9068ceca",
   "metadata": {},
   "source": [
    "There are 11.259 missing fist names. This is not a key variable for the analysis, so no need to address them."
   ]
  },
  {
   "cell_type": "code",
   "execution_count": 17,
   "id": "61945808-1dea-45c3-a0f7-0572e4f77763",
   "metadata": {},
   "outputs": [],
   "source": [
    "# Checking duplicates\n",
    "df_dups = customers[customers.duplicated()]"
   ]
  },
  {
   "cell_type": "code",
   "execution_count": 18,
   "id": "6abcb537-eea9-4b5b-bad2-ce255254b689",
   "metadata": {},
   "outputs": [
    {
     "data": {
      "text/html": [
       "<div>\n",
       "<style scoped>\n",
       "    .dataframe tbody tr th:only-of-type {\n",
       "        vertical-align: middle;\n",
       "    }\n",
       "\n",
       "    .dataframe tbody tr th {\n",
       "        vertical-align: top;\n",
       "    }\n",
       "\n",
       "    .dataframe thead th {\n",
       "        text-align: right;\n",
       "    }\n",
       "</style>\n",
       "<table border=\"1\" class=\"dataframe\">\n",
       "  <thead>\n",
       "    <tr style=\"text-align: right;\">\n",
       "      <th></th>\n",
       "      <th>user_id</th>\n",
       "      <th>first_name</th>\n",
       "      <th>last_name</th>\n",
       "      <th>gender</th>\n",
       "      <th>state</th>\n",
       "      <th>age</th>\n",
       "      <th>date_joined</th>\n",
       "      <th>n_dependants</th>\n",
       "      <th>marital_status</th>\n",
       "      <th>income</th>\n",
       "    </tr>\n",
       "  </thead>\n",
       "  <tbody>\n",
       "  </tbody>\n",
       "</table>\n",
       "</div>"
      ],
      "text/plain": [
       "Empty DataFrame\n",
       "Columns: [user_id, first_name, last_name, gender, state, age, date_joined, n_dependants, marital_status, income]\n",
       "Index: []"
      ]
     },
     "execution_count": 18,
     "metadata": {},
     "output_type": "execute_result"
    }
   ],
   "source": [
    "df_dups"
   ]
  },
  {
   "cell_type": "markdown",
   "id": "a1fe82f0-b38d-4d3f-89f3-bf3580c9acb9",
   "metadata": {},
   "source": [
    "There is no duplicates in the dataframe"
   ]
  },
  {
   "cell_type": "code",
   "execution_count": 19,
   "id": "c678e686-f13a-45a0-9969-e96506092da6",
   "metadata": {},
   "outputs": [
    {
     "data": {
      "text/plain": [
       "user_id            int64\n",
       "first_name        object\n",
       "last_name         object\n",
       "gender            object\n",
       "state             object\n",
       "age                int64\n",
       "date_joined       object\n",
       "n_dependants       int64\n",
       "marital_status    object\n",
       "income             int64\n",
       "dtype: object"
      ]
     },
     "execution_count": 19,
     "metadata": {},
     "output_type": "execute_result"
    }
   ],
   "source": [
    "# Checking mixed-type\n",
    "customers.dtypes"
   ]
  },
  {
   "cell_type": "code",
   "execution_count": 20,
   "id": "c3e88eb0-6700-4ca7-9bd4-00772317f122",
   "metadata": {},
   "outputs": [
    {
     "name": "stdout",
     "output_type": "stream",
     "text": [
      "first_name\n"
     ]
    }
   ],
   "source": [
    "for col in customers.columns.tolist():\n",
    "  weird = (customers[[col]].map(type) != customers[[col]].iloc[0].apply(type)).any(axis = 1)\n",
    "  if len (customers[weird]) > 0:\n",
    "    print (col)"
   ]
  },
  {
   "cell_type": "markdown",
   "id": "9b946245-bbb2-4088-9de1-27e7d9c7b035",
   "metadata": {},
   "source": [
    "first_name column has mixed data type. Let's fix it"
   ]
  },
  {
   "cell_type": "code",
   "execution_count": 21,
   "id": "0361b671-8ced-412a-bf96-8565c1ff59a7",
   "metadata": {},
   "outputs": [],
   "source": [
    "# address string data type to first name\n",
    "customers['first_name'] = customers['first_name'].astype('str')"
   ]
  },
  {
   "cell_type": "code",
   "execution_count": 22,
   "id": "4f074d1f-c5a0-4ed3-9e0a-54e15f7874be",
   "metadata": {},
   "outputs": [
    {
     "data": {
      "text/plain": [
       "user_id            int64\n",
       "first_name        object\n",
       "last_name         object\n",
       "gender            object\n",
       "state             object\n",
       "age                int64\n",
       "date_joined       object\n",
       "n_dependants       int64\n",
       "marital_status    object\n",
       "income             int64\n",
       "dtype: object"
      ]
     },
     "execution_count": 22,
     "metadata": {},
     "output_type": "execute_result"
    }
   ],
   "source": [
    "# Let's check again the data type\n",
    "customers.dtypes"
   ]
  },
  {
   "cell_type": "code",
   "execution_count": 23,
   "id": "89b00dbb-199d-48f4-bc56-7b89cdebd258",
   "metadata": {},
   "outputs": [],
   "source": [
    "# Let's check again the mixed data-type\n",
    "for col in customers.columns.tolist():\n",
    "  weird = (customers[[col]].map(type) != customers[[col]].iloc[0].apply(type)).any(axis = 1)\n",
    "  if len (customers[weird]) > 0:\n",
    "    print (col)"
   ]
  },
  {
   "cell_type": "markdown",
   "id": "513289c5-3132-4c9c-a74c-0bd34252b5c8",
   "metadata": {},
   "source": [
    "There is no mixed data type columns and all the columns are the right data type"
   ]
  },
  {
   "cell_type": "markdown",
   "id": "d703e00c-6ed4-433b-a019-07e81ac09c20",
   "metadata": {},
   "source": [
    "# Step 6 - Combine your customer data with the rest of your prepared Instacart data"
   ]
  },
  {
   "cell_type": "code",
   "execution_count": 24,
   "id": "0898ae7a-3799-40ff-bcab-a8d604f05299",
   "metadata": {},
   "outputs": [],
   "source": [
    "# Import the rest of prepared Instacart data\n",
    "ords_prods_merge =pd.read_pickle(os.path.join(path, '02 Data', 'Prepared Data', 'orders_products_aggregated.pkl'))"
   ]
  },
  {
   "cell_type": "code",
   "execution_count": 25,
   "id": "c4682d0d-bd03-4806-a87f-e7dc34ef4d58",
   "metadata": {},
   "outputs": [
    {
     "data": {
      "text/plain": [
       "Unnamed: 0_x                        int64\n",
       "order_id                            int64\n",
       "user_id                             int64\n",
       "eval_set                           object\n",
       "order_number                        int64\n",
       "order_dow                           int64\n",
       "order_hour_of_day                   int64\n",
       "days_since_prior_order            float64\n",
       "product_id                          int64\n",
       "add_to_cart_order                   int64\n",
       "reordered                           int64\n",
       "Unnamed: 0_y                        int64\n",
       "product_name                       object\n",
       "aisle_id                            int64\n",
       "department_id                       int64\n",
       "prices                            float64\n",
       "_merge                           category\n",
       "price_range                        object\n",
       "busiest_days                       object\n",
       "busiest_period_of_day              object\n",
       "max_order                           int64\n",
       "loyalty_flag                       object\n",
       "avg_spender                       float64\n",
       "spender_flag                       object\n",
       "median_days_since_prior_order     float64\n",
       "frequency_flag                     object\n",
       "dtype: object"
      ]
     },
     "execution_count": 25,
     "metadata": {},
     "output_type": "execute_result"
    }
   ],
   "source": [
    "# Checking data type\n",
    "ords_prods_merge.dtypes"
   ]
  },
  {
   "cell_type": "markdown",
   "id": "6ac6cf5a-48a7-41c6-ba13-fc5459c032ae",
   "metadata": {},
   "source": [
    "The key columns are user_id and both are the same data type"
   ]
  },
  {
   "cell_type": "code",
   "execution_count": 26,
   "id": "8a7ce6ac-9dcb-42a5-b154-c7d1901da0be",
   "metadata": {},
   "outputs": [],
   "source": [
    "# Drop the '_merge' column from the previous exercise\n",
    "ords_prods_merge = ords_prods_merge.drop(columns=['_merge'])"
   ]
  },
  {
   "cell_type": "code",
   "execution_count": 27,
   "id": "5a5571a3-c737-497c-b855-21fbfdbc3214",
   "metadata": {},
   "outputs": [],
   "source": [
    "# Merge ords_prods_merge with customers data\n",
    "ords_prods_customers_merge = ords_prods_merge.merge(customers, on = 'user_id', indicator = True)"
   ]
  },
  {
   "cell_type": "code",
   "execution_count": 28,
   "id": "8d8bff97-283c-4731-b86a-a232b3d7ebf0",
   "metadata": {},
   "outputs": [],
   "source": [
    "# Step 8 - Export this new dataframe as a pickle file\n",
    "ords_prods_customers_merge.to_pickle(os.path.join(path, '02 Data','Prepared Data', 'orders_products_customers_aggregated.pkl'))"
   ]
  },
  {
   "cell_type": "code",
   "execution_count": null,
   "id": "c3314ba0-120a-4f42-ba3e-5ae5b376b795",
   "metadata": {},
   "outputs": [],
   "source": []
  },
  {
   "cell_type": "code",
   "execution_count": null,
   "id": "e6d87e05-1dc9-4adc-ab97-a90af0ab1107",
   "metadata": {},
   "outputs": [],
   "source": []
  }
 ],
 "metadata": {
  "kernelspec": {
   "display_name": "Python 3 (ipykernel)",
   "language": "python",
   "name": "python3"
  },
  "language_info": {
   "codemirror_mode": {
    "name": "ipython",
    "version": 3
   },
   "file_extension": ".py",
   "mimetype": "text/x-python",
   "name": "python",
   "nbconvert_exporter": "python",
   "pygments_lexer": "ipython3",
   "version": "3.11.7"
  }
 },
 "nbformat": 4,
 "nbformat_minor": 5
}
