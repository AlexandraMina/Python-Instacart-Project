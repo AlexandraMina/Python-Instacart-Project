{
 "cells": [
  {
   "cell_type": "code",
   "execution_count": null,
   "id": "f99c8d60-5b40-4770-a019-60e143532814",
   "metadata": {},
   "outputs": [],
   "source": [
    "# 01. Importing libraries\n",
    "# Importing pandas, NumPy and os libraries\n",
    "import pandas as pd\n",
    "import numpy as np\n",
    "import os"
   ]
  },
  {
   "cell_type": "code",
   "execution_count": null,
   "id": "059157e2-e045-4ee0-b9b5-f230b8c53383",
   "metadata": {},
   "outputs": [],
   "source": [
    "# code 3 different ways of reaching a result of 100"
   ]
  },
  {
   "cell_type": "code",
   "execution_count": 1,
   "id": "6ce6e5b8-ddc4-421d-b59d-76835817dc59",
   "metadata": {},
   "outputs": [
    {
     "data": {
      "text/plain": [
       "100"
      ]
     },
     "execution_count": 1,
     "metadata": {},
     "output_type": "execute_result"
    }
   ],
   "source": [
    "#1)\n",
    "A=50\n",
    "A+A"
   ]
  },
  {
   "cell_type": "code",
   "execution_count": 2,
   "id": "34302261-bb24-4345-afb3-ea1b2a24b357",
   "metadata": {},
   "outputs": [
    {
     "data": {
      "text/plain": [
       "100"
      ]
     },
     "execution_count": 2,
     "metadata": {},
     "output_type": "execute_result"
    }
   ],
   "source": [
    "#2)\n",
    "B=20\n",
    "C=80\n",
    "B+C"
   ]
  },
  {
   "cell_type": "code",
   "execution_count": 3,
   "id": "aea147f4-e58e-4f9c-822f-2d05f6478f51",
   "metadata": {},
   "outputs": [
    {
     "data": {
      "text/plain": [
       "100"
      ]
     },
     "execution_count": 3,
     "metadata": {},
     "output_type": "execute_result"
    }
   ],
   "source": [
    "#3)\n",
    "D=150\n",
    "\n",
    "D-A"
   ]
  },
  {
   "cell_type": "code",
   "execution_count": null,
   "id": "4fd1da8b-10f9-435b-bec1-ad94f8320b81",
   "metadata": {},
   "outputs": [],
   "source": [
    "# code 2 floating-point variables and divide them by each other"
   ]
  },
  {
   "cell_type": "code",
   "execution_count": 4,
   "id": "855515cc-47a2-48a3-8453-5b7f5b28ff85",
   "metadata": {},
   "outputs": [
    {
     "data": {
      "text/plain": [
       "8.4"
      ]
     },
     "execution_count": 4,
     "metadata": {},
     "output_type": "execute_result"
    }
   ],
   "source": [
    "X=10.5\n",
    "Y=1.25\n",
    "X/Y"
   ]
  },
  {
   "cell_type": "code",
   "execution_count": null,
   "id": "ee19ecc2-29da-4677-bef8-e321700b6d61",
   "metadata": {},
   "outputs": [],
   "source": [
    "# construct a short word made of separate strings"
   ]
  },
  {
   "cell_type": "code",
   "execution_count": 5,
   "id": "d533bee4-6077-492c-8728-b0777786d849",
   "metadata": {},
   "outputs": [
    {
     "data": {
      "text/plain": [
       "'Good Morning'"
      ]
     },
     "execution_count": 5,
     "metadata": {},
     "output_type": "execute_result"
    }
   ],
   "source": [
    "E='Good '\n",
    "F='Morning'\n",
    "\n",
    "E+F"
   ]
  },
  {
   "cell_type": "code",
   "execution_count": null,
   "id": "1b63a7b8-d4a7-4d20-8d67-a5df82d7208d",
   "metadata": {},
   "outputs": [],
   "source": [
    "# 2 short sentences made of separate strings"
   ]
  },
  {
   "cell_type": "code",
   "execution_count": 7,
   "id": "7913c878-0bfd-4943-ae69-ac2a50426127",
   "metadata": {},
   "outputs": [
    {
     "data": {
      "text/plain": [
       "'I am Alexandra Mina.'"
      ]
     },
     "execution_count": 7,
     "metadata": {},
     "output_type": "execute_result"
    }
   ],
   "source": [
    "# first sentence\n",
    "G='I '\n",
    "H='am '\n",
    "I='Alexandra '\n",
    "J='Mina.'\n",
    "G+H+I+J"
   ]
  },
  {
   "cell_type": "code",
   "execution_count": 8,
   "id": "9f90bf72-18f9-472c-9adb-3f457ae5669a",
   "metadata": {},
   "outputs": [
    {
     "data": {
      "text/plain": [
       "'Nice to meet you.'"
      ]
     },
     "execution_count": 8,
     "metadata": {},
     "output_type": "execute_result"
    }
   ],
   "source": [
    "# second sentece\n",
    "K='Nice '\n",
    "L='to '\n",
    "M='meet '\n",
    "N='you.'\n",
    "K+L+M+N"
   ]
  },
  {
   "cell_type": "code",
   "execution_count": null,
   "id": "c5396159-f4dd-41e9-aa93-6c51a851a66f",
   "metadata": {},
   "outputs": [],
   "source": [
    "# Bonus Task - command that makes a string appear 100 times"
   ]
  },
  {
   "cell_type": "code",
   "execution_count": 6,
   "id": "3556e4ad-8852-4953-9aa9-dabbc7c41f03",
   "metadata": {},
   "outputs": [
    {
     "data": {
      "text/plain": [
       "'SunSunSunSunSunSunSunSunSunSunSunSunSunSunSunSunSunSunSunSunSunSunSunSunSunSunSunSunSunSunSunSunSunSunSunSunSunSunSunSunSunSunSunSunSunSunSunSunSunSunSunSunSunSunSunSunSunSunSunSunSunSunSunSunSunSunSunSunSunSunSunSunSunSunSunSunSunSunSunSunSunSunSunSunSunSunSunSunSunSunSunSunSunSunSunSunSunSunSunSun'"
      ]
     },
     "execution_count": 6,
     "metadata": {},
     "output_type": "execute_result"
    }
   ],
   "source": [
    "G='Sun'\n",
    "G*100"
   ]
  },
  {
   "cell_type": "code",
   "execution_count": null,
   "id": "d936d20a-8a78-4606-97a1-26491d0a86ad",
   "metadata": {},
   "outputs": [],
   "source": []
  }
 ],
 "metadata": {
  "kernelspec": {
   "display_name": "Python 3 (ipykernel)",
   "language": "python",
   "name": "python3"
  },
  "language_info": {
   "codemirror_mode": {
    "name": "ipython",
    "version": 3
   },
   "file_extension": ".py",
   "mimetype": "text/x-python",
   "name": "python",
   "nbconvert_exporter": "python",
   "pygments_lexer": "ipython3",
   "version": "3.11.7"
  }
 },
 "nbformat": 4,
 "nbformat_minor": 5
}
