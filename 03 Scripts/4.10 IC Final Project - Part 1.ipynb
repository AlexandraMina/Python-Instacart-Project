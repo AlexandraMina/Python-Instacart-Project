{
 "cells": [
  {
   "cell_type": "markdown",
   "id": "925cf7be-2de5-4a49-978a-af05d4de7e6b",
   "metadata": {},
   "source": [
    "# Index"
   ]
  },
  {
   "cell_type": "markdown",
   "id": "83650b3c-7c41-49e1-b572-9c2e86f623dd",
   "metadata": {},
   "source": [
    "# 1. Importing Libraries and Files"
   ]
  },
  {
   "cell_type": "markdown",
   "id": "791b3e7e-4f73-463e-b043-43873379408c",
   "metadata": {},
   "source": [
    "# 2. Assessing security implications"
   ]
  },
  {
   "cell_type": "markdown",
   "id": "9ab495eb-48bf-4113-a93e-7d45ca47c4c8",
   "metadata": {},
   "source": [
    "# 3.Customer behavior in different geographic areas"
   ]
  },
  {
   "cell_type": "markdown",
   "id": "336bd5ae-bbe9-456e-9793-5e3d9b4811c9",
   "metadata": {},
   "source": [
    "# 4. Create an exclusion flag for low-activity customers"
   ]
  },
  {
   "cell_type": "markdown",
   "id": "596ab200-0063-41fb-90c9-67a19e73cefa",
   "metadata": {},
   "source": [
    "# 5. Customer profiling "
   ]
  },
  {
   "cell_type": "markdown",
   "id": "ccd6f696-36fa-4314-aa4c-c596e1412ff1",
   "metadata": {},
   "source": [
    "# 6. Visualization to show the distribution of profiles"
   ]
  },
  {
   "cell_type": "markdown",
   "id": "5462cf88-b2c3-4388-b80e-e0cdba0a489d",
   "metadata": {},
   "source": [
    "# 7. Aggregate the max, mean, and min variables on a customer-profile level for usage frequency and expenditure"
   ]
  },
  {
   "cell_type": "markdown",
   "id": "fe1273f4-b3fa-443b-a77c-0fbfc95b8214",
   "metadata": {},
   "source": [
    "# 8. Comparisons - customer profiles with regions and departments"
   ]
  },
  {
   "cell_type": "markdown",
   "id": "5c42b39a-493e-4bb9-ac7b-23160e73d7b7",
   "metadata": {},
   "source": [
    "# 9. Suitable charts to illustrate results "
   ]
  },
  {
   "cell_type": "markdown",
   "id": "bbbff1bb-2b68-4804-ad12-4aa4a7707592",
   "metadata": {},
   "source": [
    "# 10. Export final data set"
   ]
  },
  {
   "cell_type": "code",
   "execution_count": 2,
   "id": "117dcc90-c4c7-4175-b6d9-10b99e8bfcf0",
   "metadata": {},
   "outputs": [],
   "source": [
    "# 1. Imporsting Libraries and Files"
   ]
  },
  {
   "cell_type": "code",
   "execution_count": 3,
   "id": "5595e26a-3f49-47fa-8b3f-1a492e75712d",
   "metadata": {},
   "outputs": [],
   "source": [
    "# Importing Libraries\n",
    "import pandas as pd\n",
    "import numpy as np\n",
    "import os\n",
    "import matplotlib.pyplot as plt\n",
    "import seaborn as sns\n",
    "import scipy"
   ]
  },
  {
   "cell_type": "code",
   "execution_count": 4,
   "id": "5dcea286-13f1-49d8-9193-5433abc14300",
   "metadata": {},
   "outputs": [],
   "source": [
    "# Path\n",
    "path = r'C:\\Users\\35196\\Documents\\Alexandra\\Data Analytics Program\\02 Immersion\\4. Python Fundamentals for Data Analysts\\Instacart Basket Analysis'"
   ]
  },
  {
   "cell_type": "code",
   "execution_count": 5,
   "id": "df326d2d-ac4c-462f-ae6f-7167e61fa7e7",
   "metadata": {},
   "outputs": [],
   "source": [
    "# Import the most up-to-date data (incl. customers data\n",
    "ords_prods_custs_merge =pd.read_pickle(os.path.join(path, '02 Data', 'Prepared Data', 'orders_products_customers_aggregated.pkl'))"
   ]
  },
  {
   "cell_type": "code",
   "execution_count": 6,
   "id": "2891f35a-e7a4-4062-a5cd-68144e20dab5",
   "metadata": {},
   "outputs": [
    {
     "data": {
      "text/html": [
       "<div>\n",
       "<style scoped>\n",
       "    .dataframe tbody tr th:only-of-type {\n",
       "        vertical-align: middle;\n",
       "    }\n",
       "\n",
       "    .dataframe tbody tr th {\n",
       "        vertical-align: top;\n",
       "    }\n",
       "\n",
       "    .dataframe thead th {\n",
       "        text-align: right;\n",
       "    }\n",
       "</style>\n",
       "<table border=\"1\" class=\"dataframe\">\n",
       "  <thead>\n",
       "    <tr style=\"text-align: right;\">\n",
       "      <th></th>\n",
       "      <th>Unnamed: 0_x</th>\n",
       "      <th>order_id</th>\n",
       "      <th>user_id</th>\n",
       "      <th>eval_set</th>\n",
       "      <th>order_number</th>\n",
       "      <th>order_dow</th>\n",
       "      <th>order_hour_of_day</th>\n",
       "      <th>days_since_prior_order</th>\n",
       "      <th>product_id</th>\n",
       "      <th>add_to_cart_order</th>\n",
       "      <th>...</th>\n",
       "      <th>first_name</th>\n",
       "      <th>last_name</th>\n",
       "      <th>gender</th>\n",
       "      <th>state</th>\n",
       "      <th>age</th>\n",
       "      <th>date_joined</th>\n",
       "      <th>n_dependants</th>\n",
       "      <th>marital_status</th>\n",
       "      <th>income</th>\n",
       "      <th>_merge</th>\n",
       "    </tr>\n",
       "  </thead>\n",
       "  <tbody>\n",
       "    <tr>\n",
       "      <th>0</th>\n",
       "      <td>0</td>\n",
       "      <td>2539329</td>\n",
       "      <td>1</td>\n",
       "      <td>prior</td>\n",
       "      <td>1</td>\n",
       "      <td>2</td>\n",
       "      <td>8</td>\n",
       "      <td>NaN</td>\n",
       "      <td>196</td>\n",
       "      <td>1</td>\n",
       "      <td>...</td>\n",
       "      <td>Linda</td>\n",
       "      <td>Nguyen</td>\n",
       "      <td>Female</td>\n",
       "      <td>Alabama</td>\n",
       "      <td>31</td>\n",
       "      <td>2/17/2019</td>\n",
       "      <td>3</td>\n",
       "      <td>married</td>\n",
       "      <td>40423</td>\n",
       "      <td>both</td>\n",
       "    </tr>\n",
       "    <tr>\n",
       "      <th>1</th>\n",
       "      <td>1</td>\n",
       "      <td>2398795</td>\n",
       "      <td>1</td>\n",
       "      <td>prior</td>\n",
       "      <td>2</td>\n",
       "      <td>3</td>\n",
       "      <td>7</td>\n",
       "      <td>15.0</td>\n",
       "      <td>196</td>\n",
       "      <td>1</td>\n",
       "      <td>...</td>\n",
       "      <td>Linda</td>\n",
       "      <td>Nguyen</td>\n",
       "      <td>Female</td>\n",
       "      <td>Alabama</td>\n",
       "      <td>31</td>\n",
       "      <td>2/17/2019</td>\n",
       "      <td>3</td>\n",
       "      <td>married</td>\n",
       "      <td>40423</td>\n",
       "      <td>both</td>\n",
       "    </tr>\n",
       "    <tr>\n",
       "      <th>2</th>\n",
       "      <td>2</td>\n",
       "      <td>473747</td>\n",
       "      <td>1</td>\n",
       "      <td>prior</td>\n",
       "      <td>3</td>\n",
       "      <td>3</td>\n",
       "      <td>12</td>\n",
       "      <td>21.0</td>\n",
       "      <td>196</td>\n",
       "      <td>1</td>\n",
       "      <td>...</td>\n",
       "      <td>Linda</td>\n",
       "      <td>Nguyen</td>\n",
       "      <td>Female</td>\n",
       "      <td>Alabama</td>\n",
       "      <td>31</td>\n",
       "      <td>2/17/2019</td>\n",
       "      <td>3</td>\n",
       "      <td>married</td>\n",
       "      <td>40423</td>\n",
       "      <td>both</td>\n",
       "    </tr>\n",
       "    <tr>\n",
       "      <th>3</th>\n",
       "      <td>3</td>\n",
       "      <td>2254736</td>\n",
       "      <td>1</td>\n",
       "      <td>prior</td>\n",
       "      <td>4</td>\n",
       "      <td>4</td>\n",
       "      <td>7</td>\n",
       "      <td>29.0</td>\n",
       "      <td>196</td>\n",
       "      <td>1</td>\n",
       "      <td>...</td>\n",
       "      <td>Linda</td>\n",
       "      <td>Nguyen</td>\n",
       "      <td>Female</td>\n",
       "      <td>Alabama</td>\n",
       "      <td>31</td>\n",
       "      <td>2/17/2019</td>\n",
       "      <td>3</td>\n",
       "      <td>married</td>\n",
       "      <td>40423</td>\n",
       "      <td>both</td>\n",
       "    </tr>\n",
       "    <tr>\n",
       "      <th>4</th>\n",
       "      <td>4</td>\n",
       "      <td>431534</td>\n",
       "      <td>1</td>\n",
       "      <td>prior</td>\n",
       "      <td>5</td>\n",
       "      <td>4</td>\n",
       "      <td>15</td>\n",
       "      <td>28.0</td>\n",
       "      <td>196</td>\n",
       "      <td>1</td>\n",
       "      <td>...</td>\n",
       "      <td>Linda</td>\n",
       "      <td>Nguyen</td>\n",
       "      <td>Female</td>\n",
       "      <td>Alabama</td>\n",
       "      <td>31</td>\n",
       "      <td>2/17/2019</td>\n",
       "      <td>3</td>\n",
       "      <td>married</td>\n",
       "      <td>40423</td>\n",
       "      <td>both</td>\n",
       "    </tr>\n",
       "  </tbody>\n",
       "</table>\n",
       "<p>5 rows × 35 columns</p>\n",
       "</div>"
      ],
      "text/plain": [
       "   Unnamed: 0_x  order_id  user_id eval_set  order_number  order_dow  \\\n",
       "0             0   2539329        1    prior             1          2   \n",
       "1             1   2398795        1    prior             2          3   \n",
       "2             2    473747        1    prior             3          3   \n",
       "3             3   2254736        1    prior             4          4   \n",
       "4             4    431534        1    prior             5          4   \n",
       "\n",
       "   order_hour_of_day  days_since_prior_order  product_id  add_to_cart_order  \\\n",
       "0                  8                     NaN         196                  1   \n",
       "1                  7                    15.0         196                  1   \n",
       "2                 12                    21.0         196                  1   \n",
       "3                  7                    29.0         196                  1   \n",
       "4                 15                    28.0         196                  1   \n",
       "\n",
       "   ...  first_name  last_name  gender    state  age  date_joined n_dependants  \\\n",
       "0  ...       Linda     Nguyen  Female  Alabama   31    2/17/2019            3   \n",
       "1  ...       Linda     Nguyen  Female  Alabama   31    2/17/2019            3   \n",
       "2  ...       Linda     Nguyen  Female  Alabama   31    2/17/2019            3   \n",
       "3  ...       Linda     Nguyen  Female  Alabama   31    2/17/2019            3   \n",
       "4  ...       Linda     Nguyen  Female  Alabama   31    2/17/2019            3   \n",
       "\n",
       "  marital_status income  _merge  \n",
       "0        married  40423    both  \n",
       "1        married  40423    both  \n",
       "2        married  40423    both  \n",
       "3        married  40423    both  \n",
       "4        married  40423    both  \n",
       "\n",
       "[5 rows x 35 columns]"
      ]
     },
     "execution_count": 6,
     "metadata": {},
     "output_type": "execute_result"
    }
   ],
   "source": [
    "# Checking data\n",
    "ords_prods_custs_merge.head()"
   ]
  },
  {
   "cell_type": "code",
   "execution_count": 7,
   "id": "e60ccdf6-f6a9-47d1-8cd6-876d23a8c8cb",
   "metadata": {},
   "outputs": [
    {
     "name": "stdout",
     "output_type": "stream",
     "text": [
      "<class 'pandas.core.frame.DataFrame'>\n",
      "RangeIndex: 32404859 entries, 0 to 32404858\n",
      "Data columns (total 35 columns):\n",
      " #   Column                         Dtype   \n",
      "---  ------                         -----   \n",
      " 0   Unnamed: 0_x                   int64   \n",
      " 1   order_id                       int64   \n",
      " 2   user_id                        int64   \n",
      " 3   eval_set                       object  \n",
      " 4   order_number                   int64   \n",
      " 5   order_dow                      int64   \n",
      " 6   order_hour_of_day              int64   \n",
      " 7   days_since_prior_order         float64 \n",
      " 8   product_id                     int64   \n",
      " 9   add_to_cart_order              int64   \n",
      " 10  reordered                      int64   \n",
      " 11  Unnamed: 0_y                   int64   \n",
      " 12  product_name                   object  \n",
      " 13  aisle_id                       int64   \n",
      " 14  department_id                  int64   \n",
      " 15  prices                         float64 \n",
      " 16  price_range                    object  \n",
      " 17  busiest_days                   object  \n",
      " 18  busiest_period_of_day          object  \n",
      " 19  max_order                      int64   \n",
      " 20  loyalty_flag                   object  \n",
      " 21  avg_spender                    float64 \n",
      " 22  spender_flag                   object  \n",
      " 23  median_days_since_prior_order  float64 \n",
      " 24  frequency_flag                 object  \n",
      " 25  first_name                     object  \n",
      " 26  last_name                      object  \n",
      " 27  gender                         object  \n",
      " 28  state                          object  \n",
      " 29  age                            int64   \n",
      " 30  date_joined                    object  \n",
      " 31  n_dependants                   int64   \n",
      " 32  marital_status                 object  \n",
      " 33  income                         int64   \n",
      " 34  _merge                         category\n",
      "dtypes: category(1), float64(4), int64(16), object(14)\n",
      "memory usage: 8.2+ GB\n"
     ]
    }
   ],
   "source": [
    "ords_prods_custs_merge.info()"
   ]
  },
  {
   "cell_type": "code",
   "execution_count": 8,
   "id": "fe0b4681-1af6-4afa-b769-9283bb1b3a82",
   "metadata": {},
   "outputs": [],
   "source": [
    "# 2. Assessing security implications"
   ]
  },
  {
   "cell_type": "markdown",
   "id": "08b1f08d-5a9a-42b5-88f5-18d6dabf5e61",
   "metadata": {},
   "source": [
    "The data contains sensitive data, first name and last name. This personal identificable information (PII) should be delete before continuing the analysis"
   ]
  },
  {
   "cell_type": "code",
   "execution_count": 9,
   "id": "df022021-a498-4732-9196-276272170d94",
   "metadata": {},
   "outputs": [],
   "source": [
    "ords_prods_custs_merge.drop(columns=['first_name', 'last_name'], inplace=True)"
   ]
  },
  {
   "cell_type": "code",
   "execution_count": 10,
   "id": "ff7767e9-449d-4eb3-aa34-7b18d487036b",
   "metadata": {},
   "outputs": [
    {
     "data": {
      "text/html": [
       "<div>\n",
       "<style scoped>\n",
       "    .dataframe tbody tr th:only-of-type {\n",
       "        vertical-align: middle;\n",
       "    }\n",
       "\n",
       "    .dataframe tbody tr th {\n",
       "        vertical-align: top;\n",
       "    }\n",
       "\n",
       "    .dataframe thead th {\n",
       "        text-align: right;\n",
       "    }\n",
       "</style>\n",
       "<table border=\"1\" class=\"dataframe\">\n",
       "  <thead>\n",
       "    <tr style=\"text-align: right;\">\n",
       "      <th></th>\n",
       "      <th>Unnamed: 0_x</th>\n",
       "      <th>order_id</th>\n",
       "      <th>user_id</th>\n",
       "      <th>eval_set</th>\n",
       "      <th>order_number</th>\n",
       "      <th>order_dow</th>\n",
       "      <th>order_hour_of_day</th>\n",
       "      <th>days_since_prior_order</th>\n",
       "      <th>product_id</th>\n",
       "      <th>add_to_cart_order</th>\n",
       "      <th>...</th>\n",
       "      <th>median_days_since_prior_order</th>\n",
       "      <th>frequency_flag</th>\n",
       "      <th>gender</th>\n",
       "      <th>state</th>\n",
       "      <th>age</th>\n",
       "      <th>date_joined</th>\n",
       "      <th>n_dependants</th>\n",
       "      <th>marital_status</th>\n",
       "      <th>income</th>\n",
       "      <th>_merge</th>\n",
       "    </tr>\n",
       "  </thead>\n",
       "  <tbody>\n",
       "    <tr>\n",
       "      <th>0</th>\n",
       "      <td>0</td>\n",
       "      <td>2539329</td>\n",
       "      <td>1</td>\n",
       "      <td>prior</td>\n",
       "      <td>1</td>\n",
       "      <td>2</td>\n",
       "      <td>8</td>\n",
       "      <td>NaN</td>\n",
       "      <td>196</td>\n",
       "      <td>1</td>\n",
       "      <td>...</td>\n",
       "      <td>20.5</td>\n",
       "      <td>Non-frequent customer</td>\n",
       "      <td>Female</td>\n",
       "      <td>Alabama</td>\n",
       "      <td>31</td>\n",
       "      <td>2/17/2019</td>\n",
       "      <td>3</td>\n",
       "      <td>married</td>\n",
       "      <td>40423</td>\n",
       "      <td>both</td>\n",
       "    </tr>\n",
       "    <tr>\n",
       "      <th>1</th>\n",
       "      <td>1</td>\n",
       "      <td>2398795</td>\n",
       "      <td>1</td>\n",
       "      <td>prior</td>\n",
       "      <td>2</td>\n",
       "      <td>3</td>\n",
       "      <td>7</td>\n",
       "      <td>15.0</td>\n",
       "      <td>196</td>\n",
       "      <td>1</td>\n",
       "      <td>...</td>\n",
       "      <td>20.5</td>\n",
       "      <td>Non-frequent customer</td>\n",
       "      <td>Female</td>\n",
       "      <td>Alabama</td>\n",
       "      <td>31</td>\n",
       "      <td>2/17/2019</td>\n",
       "      <td>3</td>\n",
       "      <td>married</td>\n",
       "      <td>40423</td>\n",
       "      <td>both</td>\n",
       "    </tr>\n",
       "    <tr>\n",
       "      <th>2</th>\n",
       "      <td>2</td>\n",
       "      <td>473747</td>\n",
       "      <td>1</td>\n",
       "      <td>prior</td>\n",
       "      <td>3</td>\n",
       "      <td>3</td>\n",
       "      <td>12</td>\n",
       "      <td>21.0</td>\n",
       "      <td>196</td>\n",
       "      <td>1</td>\n",
       "      <td>...</td>\n",
       "      <td>20.5</td>\n",
       "      <td>Non-frequent customer</td>\n",
       "      <td>Female</td>\n",
       "      <td>Alabama</td>\n",
       "      <td>31</td>\n",
       "      <td>2/17/2019</td>\n",
       "      <td>3</td>\n",
       "      <td>married</td>\n",
       "      <td>40423</td>\n",
       "      <td>both</td>\n",
       "    </tr>\n",
       "    <tr>\n",
       "      <th>3</th>\n",
       "      <td>3</td>\n",
       "      <td>2254736</td>\n",
       "      <td>1</td>\n",
       "      <td>prior</td>\n",
       "      <td>4</td>\n",
       "      <td>4</td>\n",
       "      <td>7</td>\n",
       "      <td>29.0</td>\n",
       "      <td>196</td>\n",
       "      <td>1</td>\n",
       "      <td>...</td>\n",
       "      <td>20.5</td>\n",
       "      <td>Non-frequent customer</td>\n",
       "      <td>Female</td>\n",
       "      <td>Alabama</td>\n",
       "      <td>31</td>\n",
       "      <td>2/17/2019</td>\n",
       "      <td>3</td>\n",
       "      <td>married</td>\n",
       "      <td>40423</td>\n",
       "      <td>both</td>\n",
       "    </tr>\n",
       "    <tr>\n",
       "      <th>4</th>\n",
       "      <td>4</td>\n",
       "      <td>431534</td>\n",
       "      <td>1</td>\n",
       "      <td>prior</td>\n",
       "      <td>5</td>\n",
       "      <td>4</td>\n",
       "      <td>15</td>\n",
       "      <td>28.0</td>\n",
       "      <td>196</td>\n",
       "      <td>1</td>\n",
       "      <td>...</td>\n",
       "      <td>20.5</td>\n",
       "      <td>Non-frequent customer</td>\n",
       "      <td>Female</td>\n",
       "      <td>Alabama</td>\n",
       "      <td>31</td>\n",
       "      <td>2/17/2019</td>\n",
       "      <td>3</td>\n",
       "      <td>married</td>\n",
       "      <td>40423</td>\n",
       "      <td>both</td>\n",
       "    </tr>\n",
       "  </tbody>\n",
       "</table>\n",
       "<p>5 rows × 33 columns</p>\n",
       "</div>"
      ],
      "text/plain": [
       "   Unnamed: 0_x  order_id  user_id eval_set  order_number  order_dow  \\\n",
       "0             0   2539329        1    prior             1          2   \n",
       "1             1   2398795        1    prior             2          3   \n",
       "2             2    473747        1    prior             3          3   \n",
       "3             3   2254736        1    prior             4          4   \n",
       "4             4    431534        1    prior             5          4   \n",
       "\n",
       "   order_hour_of_day  days_since_prior_order  product_id  add_to_cart_order  \\\n",
       "0                  8                     NaN         196                  1   \n",
       "1                  7                    15.0         196                  1   \n",
       "2                 12                    21.0         196                  1   \n",
       "3                  7                    29.0         196                  1   \n",
       "4                 15                    28.0         196                  1   \n",
       "\n",
       "   ...  median_days_since_prior_order         frequency_flag  gender    state  \\\n",
       "0  ...                           20.5  Non-frequent customer  Female  Alabama   \n",
       "1  ...                           20.5  Non-frequent customer  Female  Alabama   \n",
       "2  ...                           20.5  Non-frequent customer  Female  Alabama   \n",
       "3  ...                           20.5  Non-frequent customer  Female  Alabama   \n",
       "4  ...                           20.5  Non-frequent customer  Female  Alabama   \n",
       "\n",
       "   age  date_joined n_dependants marital_status income  _merge  \n",
       "0   31    2/17/2019            3        married  40423    both  \n",
       "1   31    2/17/2019            3        married  40423    both  \n",
       "2   31    2/17/2019            3        married  40423    both  \n",
       "3   31    2/17/2019            3        married  40423    both  \n",
       "4   31    2/17/2019            3        married  40423    both  \n",
       "\n",
       "[5 rows x 33 columns]"
      ]
     },
     "execution_count": 10,
     "metadata": {},
     "output_type": "execute_result"
    }
   ],
   "source": [
    "# Checking data after drop columns\n",
    "ords_prods_custs_merge.head()"
   ]
  },
  {
   "cell_type": "code",
   "execution_count": 11,
   "id": "fb87c6d4-1e36-4804-866d-3a8318701a63",
   "metadata": {},
   "outputs": [
    {
     "name": "stdout",
     "output_type": "stream",
     "text": [
      "<class 'pandas.core.frame.DataFrame'>\n",
      "RangeIndex: 32404859 entries, 0 to 32404858\n",
      "Data columns (total 33 columns):\n",
      " #   Column                         Dtype   \n",
      "---  ------                         -----   \n",
      " 0   Unnamed: 0_x                   int64   \n",
      " 1   order_id                       int64   \n",
      " 2   user_id                        int64   \n",
      " 3   eval_set                       object  \n",
      " 4   order_number                   int64   \n",
      " 5   order_dow                      int64   \n",
      " 6   order_hour_of_day              int64   \n",
      " 7   days_since_prior_order         float64 \n",
      " 8   product_id                     int64   \n",
      " 9   add_to_cart_order              int64   \n",
      " 10  reordered                      int64   \n",
      " 11  Unnamed: 0_y                   int64   \n",
      " 12  product_name                   object  \n",
      " 13  aisle_id                       int64   \n",
      " 14  department_id                  int64   \n",
      " 15  prices                         float64 \n",
      " 16  price_range                    object  \n",
      " 17  busiest_days                   object  \n",
      " 18  busiest_period_of_day          object  \n",
      " 19  max_order                      int64   \n",
      " 20  loyalty_flag                   object  \n",
      " 21  avg_spender                    float64 \n",
      " 22  spender_flag                   object  \n",
      " 23  median_days_since_prior_order  float64 \n",
      " 24  frequency_flag                 object  \n",
      " 25  gender                         object  \n",
      " 26  state                          object  \n",
      " 27  age                            int64   \n",
      " 28  date_joined                    object  \n",
      " 29  n_dependants                   int64   \n",
      " 30  marital_status                 object  \n",
      " 31  income                         int64   \n",
      " 32  _merge                         category\n",
      "dtypes: category(1), float64(4), int64(16), object(12)\n",
      "memory usage: 7.8+ GB\n"
     ]
    }
   ],
   "source": [
    "ords_prods_custs_merge.info()"
   ]
  },
  {
   "cell_type": "code",
   "execution_count": 12,
   "id": "851a1ee2-8f2f-4d05-b304-21f23a23a8cb",
   "metadata": {},
   "outputs": [],
   "source": [
    "# 3.Customer behavior in different geographic areas"
   ]
  },
  {
   "cell_type": "code",
   "execution_count": 13,
   "id": "b89bc2fc-da61-4260-9bff-c7cc62e58d15",
   "metadata": {},
   "outputs": [],
   "source": [
    "# Creating new column called Region based on Northeast, Midwest, South and West group of states"
   ]
  },
  {
   "cell_type": "code",
   "execution_count": 14,
   "id": "7094ee09-7e8b-4f86-908b-7214cd0733d1",
   "metadata": {},
   "outputs": [
    {
     "data": {
      "text/plain": [
       "state\n",
       "Alabama                 638003\n",
       "Alaska                  648495\n",
       "Arizona                 653964\n",
       "Arkansas                636144\n",
       "California              659783\n",
       "Colorado                639280\n",
       "Connecticut             623022\n",
       "Delaware                637024\n",
       "District of Columbia    613695\n",
       "Florida                 629027\n",
       "Georgia                 656389\n",
       "Hawaii                  632901\n",
       "Idaho                   607119\n",
       "Illinois                633024\n",
       "Indiana                 627282\n",
       "Iowa                    625493\n",
       "Kansas                  637538\n",
       "Kentucky                632490\n",
       "Louisiana               637482\n",
       "Maine                   638583\n",
       "Maryland                626579\n",
       "Massachusetts           646358\n",
       "Michigan                630928\n",
       "Minnesota               647825\n",
       "Mississippi             632675\n",
       "Missouri                640732\n",
       "Montana                 635265\n",
       "Nebraska                625813\n",
       "Nevada                  636139\n",
       "New Hampshire           615378\n",
       "New Jersey              627692\n",
       "New Mexico              654494\n",
       "New York                635983\n",
       "North Carolina          651900\n",
       "North Dakota            638491\n",
       "Ohio                    628319\n",
       "Oklahoma                651739\n",
       "Oregon                  636425\n",
       "Pennsylvania            667082\n",
       "Rhode Island            656913\n",
       "South Carolina          636754\n",
       "South Dakota            633772\n",
       "Tennessee               617873\n",
       "Texas                   640394\n",
       "Utah                    611941\n",
       "Vermont                 611725\n",
       "Virginia                641421\n",
       "Washington              632852\n",
       "West Virginia           612296\n",
       "Wisconsin               628108\n",
       "Wyoming                 644255\n",
       "Name: count, dtype: int64"
      ]
     },
     "execution_count": 14,
     "metadata": {},
     "output_type": "execute_result"
    }
   ],
   "source": [
    "ords_prods_custs_merge['state'].value_counts().sort_index()"
   ]
  },
  {
   "cell_type": "code",
   "execution_count": 77,
   "id": "fdfa43f8-da0a-4fca-ae91-5a0967e75bc8",
   "metadata": {},
   "outputs": [],
   "source": [
    "ords_prods_custs_merge.loc[ords_prods_custs_merge['state'].isin(['Maine', 'New Hampshire', 'Vermont', 'Massachusetts', 'Rhode Island', 'Connecticut', 'New York', 'Pennsylvania','New Jersey']), 'region'] = 'Northeast'"
   ]
  },
  {
   "cell_type": "code",
   "execution_count": 78,
   "id": "1fa99e39-682b-406e-9283-54c73369ac08",
   "metadata": {},
   "outputs": [],
   "source": [
    "ords_prods_custs_merge.loc[ords_prods_custs_merge['state'].isin(['Wisconsin', 'Michigan', 'Illinois', 'Indiana' , 'Ohio', 'North Dakota', 'South Dakota', 'Nebraska', 'Kansas', 'Minnesota', 'Iowa', 'Missouri' ]), 'region'] = 'Midwest'"
   ]
  },
  {
   "cell_type": "code",
   "execution_count": 79,
   "id": "9fec33c8-626f-4c5d-b921-2e71baa88d64",
   "metadata": {},
   "outputs": [],
   "source": [
    "ords_prods_custs_merge.loc[ords_prods_custs_merge['state'].isin(['Delaware', 'Maryland', 'District of Columbia', 'Virginia', 'West Virginia', 'North Carolina', 'South Carolina', 'Georgia', 'Florida', 'Kentucky', 'Tennessee', 'Mississippi', 'Alabama', 'Oklahoma', 'Texas', 'Arkansas','Louisiana']), 'region'] = 'South'"
   ]
  },
  {
   "cell_type": "code",
   "execution_count": 80,
   "id": "39ccc87e-cba7-406e-8443-c979b1dc6508",
   "metadata": {},
   "outputs": [],
   "source": [
    "ords_prods_custs_merge.loc[ords_prods_custs_merge['state'].isin(['Idaho', 'Montana', 'Wyoming', 'Nevada', 'Utah', 'Colorado', 'Arizona', 'New Mexico', 'Alaska', 'Washington', 'Oregon', 'California', 'Hawaii']), 'region'] = 'West'"
   ]
  },
  {
   "cell_type": "code",
   "execution_count": 81,
   "id": "7e5a0f97-569a-4c13-9e26-301c5e2e0c31",
   "metadata": {},
   "outputs": [
    {
     "data": {
      "text/plain": [
       "region\n",
       "South        10791885\n",
       "West          8292913\n",
       "Midwest       7597325\n",
       "Northeast     5722736\n",
       "Name: count, dtype: int64"
      ]
     },
     "execution_count": 81,
     "metadata": {},
     "output_type": "execute_result"
    }
   ],
   "source": [
    "# Checking the new variable - region\n",
    "ords_prods_custs_merge['region'].value_counts()"
   ]
  },
  {
   "cell_type": "markdown",
   "id": "26ca6110-b419-4cb8-b4d6-fb668e90fffc",
   "metadata": {},
   "source": [
    "South is the region with more users, followed by West and Midwest regions. Northeast is the region with less users."
   ]
  },
  {
   "cell_type": "code",
   "execution_count": 20,
   "id": "5c12ede2-5db2-4b5a-95b6-14cc54dae9a3",
   "metadata": {},
   "outputs": [],
   "source": [
    "# Difference in spending habits between the different US regions\n",
    "# Create a crosstable\n",
    "crosstab = pd.crosstab(ords_prods_custs_merge['region'], ords_prods_custs_merge['spender_flag'], dropna = False)"
   ]
  },
  {
   "cell_type": "code",
   "execution_count": 21,
   "id": "dc76f268-c250-4664-8643-f14dccaa5baf",
   "metadata": {},
   "outputs": [
    {
     "data": {
      "text/html": [
       "<div>\n",
       "<style scoped>\n",
       "    .dataframe tbody tr th:only-of-type {\n",
       "        vertical-align: middle;\n",
       "    }\n",
       "\n",
       "    .dataframe tbody tr th {\n",
       "        vertical-align: top;\n",
       "    }\n",
       "\n",
       "    .dataframe thead th {\n",
       "        text-align: right;\n",
       "    }\n",
       "</style>\n",
       "<table border=\"1\" class=\"dataframe\">\n",
       "  <thead>\n",
       "    <tr style=\"text-align: right;\">\n",
       "      <th>spender_flag</th>\n",
       "      <th>High_spender</th>\n",
       "      <th>Low_spender</th>\n",
       "    </tr>\n",
       "    <tr>\n",
       "      <th>region</th>\n",
       "      <th></th>\n",
       "      <th></th>\n",
       "    </tr>\n",
       "  </thead>\n",
       "  <tbody>\n",
       "    <tr>\n",
       "      <th>Midwest</th>\n",
       "      <td>155975</td>\n",
       "      <td>7441350</td>\n",
       "    </tr>\n",
       "    <tr>\n",
       "      <th>Northeast</th>\n",
       "      <td>108225</td>\n",
       "      <td>5614511</td>\n",
       "    </tr>\n",
       "    <tr>\n",
       "      <th>South</th>\n",
       "      <td>209691</td>\n",
       "      <td>10582194</td>\n",
       "    </tr>\n",
       "    <tr>\n",
       "      <th>West</th>\n",
       "      <td>160354</td>\n",
       "      <td>8132559</td>\n",
       "    </tr>\n",
       "  </tbody>\n",
       "</table>\n",
       "</div>"
      ],
      "text/plain": [
       "spender_flag  High_spender  Low_spender\n",
       "region                                 \n",
       "Midwest             155975      7441350\n",
       "Northeast           108225      5614511\n",
       "South               209691     10582194\n",
       "West                160354      8132559"
      ]
     },
     "execution_count": 21,
     "metadata": {},
     "output_type": "execute_result"
    }
   ],
   "source": [
    "crosstab"
   ]
  },
  {
   "cell_type": "code",
   "execution_count": 22,
   "id": "d8a9564d-fd24-4b8b-8e4d-ec845d09e262",
   "metadata": {},
   "outputs": [],
   "source": [
    "crosstab.to_clipboard()"
   ]
  },
  {
   "cell_type": "markdown",
   "id": "2e45a7f3-0f84-4287-82a6-2dccaae4b3ee",
   "metadata": {},
   "source": [
    "Midwest and West regions have a similar behaviour in spending habits.\n",
    "South region is the most representative region in terms of highest and lowest spending behaviours.\n",
    "Northwest is the less representative region in this analysis."
   ]
  },
  {
   "cell_type": "code",
   "execution_count": 23,
   "id": "5e1a7eec-c0e7-4bc6-8468-3f93352fe3e9",
   "metadata": {},
   "outputs": [],
   "source": [
    "# 4. Create an exclusion flag for low-activity customers and exclude them from the data"
   ]
  },
  {
   "cell_type": "code",
   "execution_count": 24,
   "id": "89fb30a2-62e4-44e2-be56-a52faa9829f6",
   "metadata": {},
   "outputs": [],
   "source": [
    "# low-activity customers are customers with less than 5 orders"
   ]
  },
  {
   "cell_type": "code",
   "execution_count": 25,
   "id": "add6fa02-9bde-414f-bfaf-6130eb294f76",
   "metadata": {},
   "outputs": [],
   "source": [
    "ords_prods_custs_merge.loc[ords_prods_custs_merge['max_order']>=5, 'activity'] = 'high-activity'"
   ]
  },
  {
   "cell_type": "code",
   "execution_count": 26,
   "id": "fc71f74b-3640-4863-b05c-ce4bd0288366",
   "metadata": {},
   "outputs": [],
   "source": [
    "ords_prods_custs_merge.loc[ords_prods_custs_merge['max_order']<5, 'activity'] = 'low-activity'"
   ]
  },
  {
   "cell_type": "code",
   "execution_count": 27,
   "id": "fd57f427-3b0e-4ee9-b705-169abbee1c74",
   "metadata": {},
   "outputs": [
    {
     "data": {
      "text/plain": [
       "activity\n",
       "high-activity    30964564\n",
       "low-activity      1440295\n",
       "Name: count, dtype: int64"
      ]
     },
     "execution_count": 27,
     "metadata": {},
     "output_type": "execute_result"
    }
   ],
   "source": [
    "# Checking the new variable - activity\n",
    "ords_prods_custs_merge['activity'].value_counts()"
   ]
  },
  {
   "cell_type": "code",
   "execution_count": 28,
   "id": "1f02232e-1c1e-49a9-a8e6-0bb76fec2c20",
   "metadata": {},
   "outputs": [],
   "source": [
    "# Define a new dataframe after excluding the low-activity customers\n",
    "df = ords_prods_custs_merge.loc[ords_prods_custs_merge['activity'] == 'high-activity']"
   ]
  },
  {
   "cell_type": "code",
   "execution_count": 29,
   "id": "a01a22f6-8fa2-44e9-b53a-72326e97c11b",
   "metadata": {},
   "outputs": [
    {
     "data": {
      "text/plain": [
       "activity\n",
       "high-activity    30964564\n",
       "Name: count, dtype: int64"
      ]
     },
     "execution_count": 29,
     "metadata": {},
     "output_type": "execute_result"
    }
   ],
   "source": [
    "# Checking data\n",
    "df['activity'].value_counts()"
   ]
  },
  {
   "cell_type": "code",
   "execution_count": 30,
   "id": "01f9e384-19b0-4e88-b6fe-3f67d59c090c",
   "metadata": {},
   "outputs": [],
   "source": [
    "# Export the new dataframe as a a pickle file\n",
    "df.to_pickle(os.path.join(path, '02 Data','Prepared Data', 'ords_prods_custs_merge_highactivity.pkl'))"
   ]
  },
  {
   "cell_type": "code",
   "execution_count": 31,
   "id": "d1be2c0a-21ca-444e-b936-ad7ddc76694e",
   "metadata": {},
   "outputs": [
    {
     "data": {
      "text/plain": [
       "(30964564, 35)"
      ]
     },
     "execution_count": 31,
     "metadata": {},
     "output_type": "execute_result"
    }
   ],
   "source": [
    "# 5. Customer profiling based on age, income, certain goods in the 'department_id' column and number of dependents (also use 'order_dow' and 'order_hour_of_day'\n",
    "# checking data\n",
    "df.shape"
   ]
  },
  {
   "cell_type": "code",
   "execution_count": 32,
   "id": "f85922dc-96d8-421f-92e8-c87f9cc5fd8c",
   "metadata": {},
   "outputs": [
    {
     "data": {
      "text/plain": [
       "age\n",
       "18    478457\n",
       "19    496077\n",
       "20    480194\n",
       "21    489116\n",
       "22    490811\n",
       "       ...  \n",
       "77    477999\n",
       "78    471119\n",
       "79    508337\n",
       "80    492750\n",
       "81    485847\n",
       "Name: count, Length: 64, dtype: int64"
      ]
     },
     "execution_count": 32,
     "metadata": {},
     "output_type": "execute_result"
    }
   ],
   "source": [
    "df['age'].value_counts().sort_index()"
   ]
  },
  {
   "cell_type": "code",
   "execution_count": 33,
   "id": "d73513cb-39b7-411e-a781-ff0efca4bed9",
   "metadata": {},
   "outputs": [
    {
     "data": {
      "text/plain": [
       "count    3.096456e+07\n",
       "mean     4.946803e+01\n",
       "std      1.848528e+01\n",
       "min      1.800000e+01\n",
       "25%      3.300000e+01\n",
       "50%      4.900000e+01\n",
       "75%      6.500000e+01\n",
       "max      8.100000e+01\n",
       "Name: age, dtype: float64"
      ]
     },
     "execution_count": 33,
     "metadata": {},
     "output_type": "execute_result"
    }
   ],
   "source": [
    "df['age'].describe()"
   ]
  },
  {
   "cell_type": "code",
   "execution_count": 34,
   "id": "5ec385a0-6afc-4eb0-8fd6-c4979a324b96",
   "metadata": {},
   "outputs": [
    {
     "data": {
      "text/plain": [
       "income\n",
       "25903      20\n",
       "25911      28\n",
       "25937      39\n",
       "25941      31\n",
       "25955     392\n",
       "         ... \n",
       "584097    826\n",
       "590790     54\n",
       "591089    176\n",
       "592409    318\n",
       "593901    640\n",
       "Name: count, Length: 96069, dtype: int64"
      ]
     },
     "execution_count": 34,
     "metadata": {},
     "output_type": "execute_result"
    }
   ],
   "source": [
    "df['income'].value_counts().sort_index()   "
   ]
  },
  {
   "cell_type": "code",
   "execution_count": 35,
   "id": "d14d3f18-4f9f-4fda-9db6-1e688587a2c0",
   "metadata": {},
   "outputs": [
    {
     "data": {
      "text/plain": [
       "count    3.096456e+07\n",
       "mean     9.967587e+04\n",
       "std      4.314187e+04\n",
       "min      2.590300e+04\n",
       "25%      6.729200e+04\n",
       "50%      9.676500e+04\n",
       "75%      1.281020e+05\n",
       "max      5.939010e+05\n",
       "Name: income, dtype: float64"
      ]
     },
     "execution_count": 35,
     "metadata": {},
     "output_type": "execute_result"
    }
   ],
   "source": [
    "df['income'].describe()"
   ]
  },
  {
   "cell_type": "code",
   "execution_count": 36,
   "id": "2d99fc72-6b81-434a-8131-a014e3e75620",
   "metadata": {},
   "outputs": [
    {
     "data": {
      "text/plain": [
       "n_dependants\n",
       "3    7772516\n",
       "0    7739681\n",
       "2    7733261\n",
       "1    7719106\n",
       "Name: count, dtype: int64"
      ]
     },
     "execution_count": 36,
     "metadata": {},
     "output_type": "execute_result"
    }
   ],
   "source": [
    "df['n_dependants'].value_counts()"
   ]
  },
  {
   "cell_type": "code",
   "execution_count": 37,
   "id": "f35b29d2-ac76-499b-b64c-e48fcf7c1420",
   "metadata": {},
   "outputs": [
    {
     "data": {
      "text/plain": [
       "count    3.096456e+07\n",
       "mean     2.741397e+00\n",
       "std      2.089254e+00\n",
       "min      0.000000e+00\n",
       "25%      1.000000e+00\n",
       "50%      3.000000e+00\n",
       "75%      5.000000e+00\n",
       "max      6.000000e+00\n",
       "Name: order_dow, dtype: float64"
      ]
     },
     "execution_count": 37,
     "metadata": {},
     "output_type": "execute_result"
    }
   ],
   "source": [
    "df['order_dow'].describe()"
   ]
  },
  {
   "cell_type": "code",
   "execution_count": 38,
   "id": "8f8dd37d-1941-457d-bc48-526827ed0b9c",
   "metadata": {},
   "outputs": [
    {
     "data": {
      "text/plain": [
       "order_dow\n",
       "0    5908610\n",
       "1    5411686\n",
       "2    4024706\n",
       "3    3669535\n",
       "4    3624994\n",
       "5    4033729\n",
       "6    4291304\n",
       "Name: count, dtype: int64"
      ]
     },
     "execution_count": 38,
     "metadata": {},
     "output_type": "execute_result"
    }
   ],
   "source": [
    "df['order_dow'].value_counts().sort_index()   "
   ]
  },
  {
   "cell_type": "code",
   "execution_count": 39,
   "id": "86fe9624-ef6c-4426-98ab-4ceeb09bdfc2",
   "metadata": {},
   "outputs": [
    {
     "data": {
      "text/plain": [
       "order_hour_of_day\n",
       "0      208042\n",
       "1      109621\n",
       "2       65691\n",
       "3       48796\n",
       "4       50763\n",
       "5       84418\n",
       "6      281013\n",
       "7      863213\n",
       "8     1659110\n",
       "9     2363611\n",
       "10    2649744\n",
       "11    2614880\n",
       "12    2495795\n",
       "13    2539276\n",
       "14    2567903\n",
       "15    2535966\n",
       "16    2413681\n",
       "17    1982345\n",
       "18    1551184\n",
       "19    1193878\n",
       "20     930909\n",
       "21     763111\n",
       "22     607060\n",
       "23     384554\n",
       "Name: count, dtype: int64"
      ]
     },
     "execution_count": 39,
     "metadata": {},
     "output_type": "execute_result"
    }
   ],
   "source": [
    "df['order_hour_of_day'].value_counts().sort_index()   "
   ]
  },
  {
   "cell_type": "code",
   "execution_count": 40,
   "id": "084446c3-c921-4ecc-854e-264c36aa0ec5",
   "metadata": {},
   "outputs": [],
   "source": [
    "# Create Age Group: \n",
    "# 18-35 -> Young\n",
    "# 36-65 -> Middle-Aged\n",
    "# > 65  -> Senior"
   ]
  },
  {
   "cell_type": "code",
   "execution_count": 41,
   "id": "919d9188-9d6f-4e31-90dd-1ff9f3543531",
   "metadata": {},
   "outputs": [
    {
     "name": "stderr",
     "output_type": "stream",
     "text": [
      "C:\\Users\\35196\\AppData\\Local\\Temp\\ipykernel_13376\\497263336.py:1: SettingWithCopyWarning: \n",
      "A value is trying to be set on a copy of a slice from a DataFrame.\n",
      "Try using .loc[row_indexer,col_indexer] = value instead\n",
      "\n",
      "See the caveats in the documentation: https://pandas.pydata.org/pandas-docs/stable/user_guide/indexing.html#returning-a-view-versus-a-copy\n",
      "  df.loc[df['age'] <= 35, 'age_group'] = 'young'\n"
     ]
    }
   ],
   "source": [
    "df.loc[df['age'] <= 35, 'age_group'] = 'young'"
   ]
  },
  {
   "cell_type": "code",
   "execution_count": 42,
   "id": "62391e5b-03d6-411e-8242-bb89c380bafa",
   "metadata": {},
   "outputs": [],
   "source": [
    "df.loc[(df['age'] > 35) & (df['age'] <= 65), 'age_group'] = 'middle-aged'"
   ]
  },
  {
   "cell_type": "code",
   "execution_count": 43,
   "id": "04421bd1-03c2-4ba3-9d8d-4f310edb12cc",
   "metadata": {},
   "outputs": [],
   "source": [
    "df.loc[df['age'] > 65, 'age_group'] = 'senior'"
   ]
  },
  {
   "cell_type": "code",
   "execution_count": 44,
   "id": "20730aef-3358-43b4-bb32-8b2a138da670",
   "metadata": {},
   "outputs": [
    {
     "data": {
      "text/plain": [
       "age_group\n",
       "middle-aged    14494925\n",
       "senior          7730834\n",
       "young           8738805\n",
       "Name: count, dtype: int64"
      ]
     },
     "execution_count": 44,
     "metadata": {},
     "output_type": "execute_result"
    }
   ],
   "source": [
    "# Checking the new column, age_group\n",
    "df['age_group'].value_counts().sort_index() "
   ]
  },
  {
   "cell_type": "code",
   "execution_count": 45,
   "id": "020e838f-656c-420b-9783-f49eeb77bed2",
   "metadata": {},
   "outputs": [],
   "source": [
    "# Create Income Group:\n",
    "#  < 67.292 -> low income\n",
    "#  67.292 - 128.102 -> Average income\n",
    "# > 128.102 -> High income"
   ]
  },
  {
   "cell_type": "code",
   "execution_count": 46,
   "id": "420e77fd-2bdd-4099-bc1c-0aa02eb8d1e5",
   "metadata": {},
   "outputs": [
    {
     "name": "stderr",
     "output_type": "stream",
     "text": [
      "C:\\Users\\35196\\AppData\\Local\\Temp\\ipykernel_13376\\3240034062.py:1: SettingWithCopyWarning: \n",
      "A value is trying to be set on a copy of a slice from a DataFrame.\n",
      "Try using .loc[row_indexer,col_indexer] = value instead\n",
      "\n",
      "See the caveats in the documentation: https://pandas.pydata.org/pandas-docs/stable/user_guide/indexing.html#returning-a-view-versus-a-copy\n",
      "  df.loc[df['income'] <= 67292, 'income_group'] = 'low-income'\n"
     ]
    }
   ],
   "source": [
    "df.loc[df['income'] <= 67292, 'income_group'] = 'low-income'"
   ]
  },
  {
   "cell_type": "code",
   "execution_count": 47,
   "id": "ad571841-fac4-4988-b1f4-eadac50d1c1a",
   "metadata": {},
   "outputs": [],
   "source": [
    "df.loc[(df['income'] > 67292) & (df['income'] <= 128102), 'income_group'] = 'average-income'"
   ]
  },
  {
   "cell_type": "code",
   "execution_count": 48,
   "id": "004b4742-65b5-4e03-89cf-9df476885bed",
   "metadata": {},
   "outputs": [],
   "source": [
    "df.loc[df['income'] > 128102, 'income_group'] = 'high-income'"
   ]
  },
  {
   "cell_type": "code",
   "execution_count": 49,
   "id": "5ead564d-cd77-457c-a4ad-8389dc9f85c5",
   "metadata": {},
   "outputs": [
    {
     "data": {
      "text/plain": [
       "income_group\n",
       "average-income    15482125\n",
       "low-income         7741348\n",
       "high-income        7741091\n",
       "Name: count, dtype: int64"
      ]
     },
     "execution_count": 49,
     "metadata": {},
     "output_type": "execute_result"
    }
   ],
   "source": [
    "# Checking the new column, income_group\n",
    "df['income_group'].value_counts()"
   ]
  },
  {
   "cell_type": "code",
   "execution_count": 50,
   "id": "f7238a82-4676-46d8-be6a-da50017f7120",
   "metadata": {},
   "outputs": [],
   "source": [
    "# Create Dependents_Flag:\n",
    "# No - 0 \n",
    "# Yes - 1, 2, 3"
   ]
  },
  {
   "cell_type": "code",
   "execution_count": 51,
   "id": "3af32414-32d3-4c6f-af41-b741e08f285a",
   "metadata": {},
   "outputs": [
    {
     "name": "stderr",
     "output_type": "stream",
     "text": [
      "C:\\Users\\35196\\AppData\\Local\\Temp\\ipykernel_13376\\3601118632.py:1: SettingWithCopyWarning: \n",
      "A value is trying to be set on a copy of a slice from a DataFrame.\n",
      "Try using .loc[row_indexer,col_indexer] = value instead\n",
      "\n",
      "See the caveats in the documentation: https://pandas.pydata.org/pandas-docs/stable/user_guide/indexing.html#returning-a-view-versus-a-copy\n",
      "  df.loc[df['n_dependants'] < 1, 'dependents_flag'] = 'No'\n"
     ]
    }
   ],
   "source": [
    "df.loc[df['n_dependants'] < 1, 'dependents_flag'] = 'No'"
   ]
  },
  {
   "cell_type": "code",
   "execution_count": 52,
   "id": "99657bc7-c149-4d75-af36-94ec9bbf5aaf",
   "metadata": {},
   "outputs": [],
   "source": [
    "df.loc[df['n_dependants'] >= 1, 'dependents_flag'] = 'Yes'"
   ]
  },
  {
   "cell_type": "code",
   "execution_count": 53,
   "id": "0ee46b35-3fb7-403e-baf0-63e6a8387ee0",
   "metadata": {},
   "outputs": [
    {
     "data": {
      "text/plain": [
       "dependents_flag\n",
       "Yes    23224883\n",
       "No      7739681\n",
       "Name: count, dtype: int64"
      ]
     },
     "execution_count": 53,
     "metadata": {},
     "output_type": "execute_result"
    }
   ],
   "source": [
    "# Checking the new column, dependents_flag\n",
    "df['dependents_flag'].value_counts()"
   ]
  },
  {
   "cell_type": "code",
   "execution_count": 54,
   "id": "59d82d22-fa88-4afd-bb16-17aaacd9702b",
   "metadata": {},
   "outputs": [
    {
     "name": "stderr",
     "output_type": "stream",
     "text": [
      "C:\\Users\\35196\\AppData\\Local\\Temp\\ipykernel_13376\\1871219363.py:3: SettingWithCopyWarning: \n",
      "A value is trying to be set on a copy of a slice from a DataFrame.\n",
      "Try using .loc[row_indexer,col_indexer] = value instead\n",
      "\n",
      "See the caveats in the documentation: https://pandas.pydata.org/pandas-docs/stable/user_guide/indexing.html#returning-a-view-versus-a-copy\n",
      "  df.loc[(df['age_group']=='young') & (df['income_group']=='low-income') & (df['dependents_flag'] == 'No'), 'Profile'] = 'Young No Parents Low income'\n"
     ]
    }
   ],
   "source": [
    "# Create a profilling'\n",
    "#Young - No dependents:\n",
    "df.loc[(df['age_group']=='young') & (df['income_group']=='low-income') & (df['dependents_flag'] == 'No'), 'Profile'] = 'Young No Parents Low income'\n",
    "df.loc[(df['age_group']=='young') & (df['income_group']=='average-income') & (df['dependents_flag'] == 'No'), 'Profile'] = 'Young No Parents Average income'\n",
    "df.loc[(df['age_group']=='young') & (df['income_group']=='high-income') & (df['dependents_flag'] == 'No'), 'Profile'] = 'Young No Parents High income'"
   ]
  },
  {
   "cell_type": "code",
   "execution_count": 55,
   "id": "7b8e1ecd-51ff-4419-9f85-2280e128978c",
   "metadata": {},
   "outputs": [],
   "source": [
    "# Young - with dependents\n",
    "df.loc[(df['age_group']=='young') & (df['income_group']=='low-income') & (df['dependents_flag'] == 'Yes'), 'Profile'] = 'Young Parents Low income'\n",
    "df.loc[(df['age_group']=='young') & (df['income_group']=='average-income') & (df['dependents_flag'] == 'Yes'), 'Profile'] = 'Young Parents Average income'\n",
    "df.loc[(df['age_group']=='young') & (df['income_group']=='high-income') & (df['dependents_flag'] == 'Yes'), 'Profile'] = 'Young Parents High income'"
   ]
  },
  {
   "cell_type": "code",
   "execution_count": 56,
   "id": "03152534-d8ea-4acf-b32e-e819f86f4b4f",
   "metadata": {},
   "outputs": [],
   "source": [
    "#Middle Aged - No dependents:\n",
    "df.loc[(df['age_group']=='middle-aged') & (df['income_group']=='low-income') & (df['dependents_flag'] == 'No'), 'Profile'] = 'Middle-Aged No Parents Low income'\n",
    "df.loc[(df['age_group']=='middle-aged') & (df['income_group']=='average-income') & (df['dependents_flag'] == 'No'), 'Profile'] = 'Middle-Aged No Parents Average income'\n",
    "df.loc[(df['age_group']=='middle-aged') & (df['income_group']=='high-income') & (df['dependents_flag'] == 'No'), 'Profile'] = 'Middle-Aged No Parents High income'"
   ]
  },
  {
   "cell_type": "code",
   "execution_count": 57,
   "id": "c0261231-080f-455d-8b7f-62e170f64ab5",
   "metadata": {},
   "outputs": [],
   "source": [
    "# Middle Aged - with dependents\n",
    "df.loc[(df['age_group']=='middle-aged') & (df['income_group']=='low-income') & (df['dependents_flag'] == 'Yes'), 'Profile'] = 'Middle-Aged Parents Low income'\n",
    "df.loc[(df['age_group']=='middle-aged') & (df['income_group']=='average-income') & (df['dependents_flag'] == 'Yes'), 'Profile'] = 'Middle-Aged Parents Average income'\n",
    "df.loc[(df['age_group']=='middle-aged') & (df['income_group']=='high-income') & (df['dependents_flag'] == 'Yes'), 'Profile'] = 'Middle-Aged Parents High income'"
   ]
  },
  {
   "cell_type": "code",
   "execution_count": 58,
   "id": "0caf1166-de9b-497b-a0a4-ef6216fe4bcb",
   "metadata": {},
   "outputs": [],
   "source": [
    "#Senior - No dependents:\n",
    "df.loc[(df['age_group']=='senior') & (df['income_group']=='low-income') & (df['dependents_flag'] == 'No'), 'Profile'] = 'Senior No Parents Low income'\n",
    "df.loc[(df['age_group']=='senior') & (df['income_group']=='average-income') & (df['dependents_flag'] == 'No'), 'Profile'] = 'Senior No Parents Average income'\n",
    "df.loc[(df['age_group']=='senior') & (df['income_group']=='high-income') & (df['dependents_flag'] == 'No'), 'Profile'] = 'Senior No Parents High income'"
   ]
  },
  {
   "cell_type": "code",
   "execution_count": 59,
   "id": "e5dcfb9f-fe4a-42d7-a55a-cda38d436533",
   "metadata": {},
   "outputs": [],
   "source": [
    "# Senior - with dependents\n",
    "df.loc[(df['age_group']=='senior') & (df['income_group']=='low-income') & (df['dependents_flag'] == 'Yes'), 'Profile'] = 'Senior Parents Low income'\n",
    "df.loc[(df['age_group']=='senior') & (df['income_group']=='average-income') & (df['dependents_flag'] == 'Yes'), 'Profile'] = 'Senior Parents Average income'\n",
    "df.loc[(df['age_group']=='senior') & (df['income_group']=='high-income') & (df['dependents_flag'] == 'Yes'), 'Profile'] = 'Senior Parents High income'"
   ]
  },
  {
   "cell_type": "code",
   "execution_count": 60,
   "id": "dc758ad1-c8b9-4ddc-b1cf-9bf53f844608",
   "metadata": {},
   "outputs": [
    {
     "data": {
      "text/plain": [
       "Profile\n",
       "Middle-Aged Parents Average income       5339364\n",
       "Middle-Aged Parents High income          3486847\n",
       "Young Parents Average income             3445231\n",
       "Young Parents Low income                 3038678\n",
       "Senior Parents Average income            2832842\n",
       "Senior Parents High income               2232647\n",
       "Middle-Aged Parents Low income           2012444\n",
       "Middle-Aged No Parents Average income    1778134\n",
       "Middle-Aged No Parents High income       1196114\n",
       "Young No Parents Average income          1141177\n",
       "Young No Parents Low income              1012069\n",
       "Senior No Parents Average income          945377\n",
       "Senior Parents Low income                 759624\n",
       "Senior No Parents High income             723833\n",
       "Middle-Aged No Parents Low income         682022\n",
       "Senior No Parents Low income              236511\n",
       "Young Parents High income                  77206\n",
       "Young No Parents High income               24444\n",
       "Name: count, dtype: int64"
      ]
     },
     "execution_count": 60,
     "metadata": {},
     "output_type": "execute_result"
    }
   ],
   "source": [
    "df['Profile'].value_counts()"
   ]
  },
  {
   "cell_type": "code",
   "execution_count": 63,
   "id": "f96afa6e-1217-47e1-b180-3b7d53d1edbb",
   "metadata": {},
   "outputs": [
    {
     "data": {
      "image/png": "[encoded data removed]",
      "text/plain": [
       "<Figure size 640x480 with 1 Axes>"
      ]
     },
     "metadata": {},
     "output_type": "display_data"
    }
   ],
   "source": [
    "# 6. Create an appropriate visualization to show the distribution of profiles\n",
    "# Bar Chart\n",
    "bar_chart=df['Profile'].value_counts().sort_values(ascending=True).plot.barh()\n"
   ]
  },
  {
   "cell_type": "code",
   "execution_count": 64,
   "id": "51b1fbb5-875b-475f-8964-79d218e2b39a",
   "metadata": {},
   "outputs": [],
   "source": [
    "# Export \n",
    "bar_chart.figure.savefig(os.path.join(path, '04 Analysis','Visualizations', 'Bar Chart - Customer Profile.png'))"
   ]
  },
  {
   "cell_type": "code",
   "execution_count": 65,
   "id": "9bce1644-fefa-4019-986b-1471581bee09",
   "metadata": {},
   "outputs": [
    {
     "data": {
      "text/html": [
       "<div>\n",
       "<style scoped>\n",
       "    .dataframe tbody tr th:only-of-type {\n",
       "        vertical-align: middle;\n",
       "    }\n",
       "\n",
       "    .dataframe tbody tr th {\n",
       "        vertical-align: top;\n",
       "    }\n",
       "\n",
       "    .dataframe thead tr th {\n",
       "        text-align: left;\n",
       "    }\n",
       "\n",
       "    .dataframe thead tr:last-of-type th {\n",
       "        text-align: right;\n",
       "    }\n",
       "</style>\n",
       "<table border=\"1\" class=\"dataframe\">\n",
       "  <thead>\n",
       "    <tr>\n",
       "      <th></th>\n",
       "      <th colspan=\"3\" halign=\"left\">days_since_prior_order</th>\n",
       "    </tr>\n",
       "    <tr>\n",
       "      <th></th>\n",
       "      <th>min</th>\n",
       "      <th>mean</th>\n",
       "      <th>max</th>\n",
       "    </tr>\n",
       "    <tr>\n",
       "      <th>Profile</th>\n",
       "      <th></th>\n",
       "      <th></th>\n",
       "      <th></th>\n",
       "    </tr>\n",
       "  </thead>\n",
       "  <tbody>\n",
       "    <tr>\n",
       "      <th>Middle-Aged No Parents Average income</th>\n",
       "      <td>0.0</td>\n",
       "      <td>10.711470</td>\n",
       "      <td>30.0</td>\n",
       "    </tr>\n",
       "    <tr>\n",
       "      <th>Middle-Aged No Parents High income</th>\n",
       "      <td>0.0</td>\n",
       "      <td>10.673431</td>\n",
       "      <td>30.0</td>\n",
       "    </tr>\n",
       "    <tr>\n",
       "      <th>Middle-Aged No Parents Low income</th>\n",
       "      <td>0.0</td>\n",
       "      <td>10.889697</td>\n",
       "      <td>30.0</td>\n",
       "    </tr>\n",
       "    <tr>\n",
       "      <th>Middle-Aged Parents Average income</th>\n",
       "      <td>0.0</td>\n",
       "      <td>10.738238</td>\n",
       "      <td>30.0</td>\n",
       "    </tr>\n",
       "    <tr>\n",
       "      <th>Middle-Aged Parents High income</th>\n",
       "      <td>0.0</td>\n",
       "      <td>10.830502</td>\n",
       "      <td>30.0</td>\n",
       "    </tr>\n",
       "    <tr>\n",
       "      <th>Middle-Aged Parents Low income</th>\n",
       "      <td>0.0</td>\n",
       "      <td>11.084685</td>\n",
       "      <td>30.0</td>\n",
       "    </tr>\n",
       "    <tr>\n",
       "      <th>Senior No Parents Average income</th>\n",
       "      <td>0.0</td>\n",
       "      <td>10.682421</td>\n",
       "      <td>30.0</td>\n",
       "    </tr>\n",
       "    <tr>\n",
       "      <th>Senior No Parents High income</th>\n",
       "      <td>0.0</td>\n",
       "      <td>10.733952</td>\n",
       "      <td>30.0</td>\n",
       "    </tr>\n",
       "    <tr>\n",
       "      <th>Senior No Parents Low income</th>\n",
       "      <td>0.0</td>\n",
       "      <td>11.356374</td>\n",
       "      <td>30.0</td>\n",
       "    </tr>\n",
       "    <tr>\n",
       "      <th>Senior Parents Average income</th>\n",
       "      <td>0.0</td>\n",
       "      <td>10.807012</td>\n",
       "      <td>30.0</td>\n",
       "    </tr>\n",
       "    <tr>\n",
       "      <th>Senior Parents High income</th>\n",
       "      <td>0.0</td>\n",
       "      <td>10.714439</td>\n",
       "      <td>30.0</td>\n",
       "    </tr>\n",
       "    <tr>\n",
       "      <th>Senior Parents Low income</th>\n",
       "      <td>0.0</td>\n",
       "      <td>11.017993</td>\n",
       "      <td>30.0</td>\n",
       "    </tr>\n",
       "    <tr>\n",
       "      <th>Young No Parents Average income</th>\n",
       "      <td>0.0</td>\n",
       "      <td>10.865531</td>\n",
       "      <td>30.0</td>\n",
       "    </tr>\n",
       "    <tr>\n",
       "      <th>Young No Parents High income</th>\n",
       "      <td>0.0</td>\n",
       "      <td>9.963711</td>\n",
       "      <td>30.0</td>\n",
       "    </tr>\n",
       "    <tr>\n",
       "      <th>Young No Parents Low income</th>\n",
       "      <td>0.0</td>\n",
       "      <td>10.958142</td>\n",
       "      <td>30.0</td>\n",
       "    </tr>\n",
       "    <tr>\n",
       "      <th>Young Parents Average income</th>\n",
       "      <td>0.0</td>\n",
       "      <td>10.773913</td>\n",
       "      <td>30.0</td>\n",
       "    </tr>\n",
       "    <tr>\n",
       "      <th>Young Parents High income</th>\n",
       "      <td>0.0</td>\n",
       "      <td>10.354875</td>\n",
       "      <td>30.0</td>\n",
       "    </tr>\n",
       "    <tr>\n",
       "      <th>Young Parents Low income</th>\n",
       "      <td>0.0</td>\n",
       "      <td>10.854063</td>\n",
       "      <td>30.0</td>\n",
       "    </tr>\n",
       "  </tbody>\n",
       "</table>\n",
       "</div>"
      ],
      "text/plain": [
       "                                      days_since_prior_order                 \n",
       "                                                         min       mean   max\n",
       "Profile                                                                      \n",
       "Middle-Aged No Parents Average income                    0.0  10.711470  30.0\n",
       "Middle-Aged No Parents High income                       0.0  10.673431  30.0\n",
       "Middle-Aged No Parents Low income                        0.0  10.889697  30.0\n",
       "Middle-Aged Parents Average income                       0.0  10.738238  30.0\n",
       "Middle-Aged Parents High income                          0.0  10.830502  30.0\n",
       "Middle-Aged Parents Low income                           0.0  11.084685  30.0\n",
       "Senior No Parents Average income                         0.0  10.682421  30.0\n",
       "Senior No Parents High income                            0.0  10.733952  30.0\n",
       "Senior No Parents Low income                             0.0  11.356374  30.0\n",
       "Senior Parents Average income                            0.0  10.807012  30.0\n",
       "Senior Parents High income                               0.0  10.714439  30.0\n",
       "Senior Parents Low income                                0.0  11.017993  30.0\n",
       "Young No Parents Average income                          0.0  10.865531  30.0\n",
       "Young No Parents High income                             0.0   9.963711  30.0\n",
       "Young No Parents Low income                              0.0  10.958142  30.0\n",
       "Young Parents Average income                             0.0  10.773913  30.0\n",
       "Young Parents High income                                0.0  10.354875  30.0\n",
       "Young Parents Low income                                 0.0  10.854063  30.0"
      ]
     },
     "execution_count": 65,
     "metadata": {},
     "output_type": "execute_result"
    }
   ],
   "source": [
    "# 7. Aggregate the max, mean, and min variables on a customer-profile level for usage frequency and expenditure\n",
    "Freq_Profile=df.groupby('Profile').agg({'days_since_prior_order':['min','mean', 'max']})\n",
    "Freq_Profile"
   ]
  },
  {
   "cell_type": "code",
   "execution_count": 66,
   "id": "acd8d2f3-1989-47d5-ae8b-4a3a93c45f83",
   "metadata": {},
   "outputs": [
    {
     "data": {
      "text/html": [
       "<div>\n",
       "<style scoped>\n",
       "    .dataframe tbody tr th:only-of-type {\n",
       "        vertical-align: middle;\n",
       "    }\n",
       "\n",
       "    .dataframe tbody tr th {\n",
       "        vertical-align: top;\n",
       "    }\n",
       "\n",
       "    .dataframe thead tr th {\n",
       "        text-align: left;\n",
       "    }\n",
       "\n",
       "    .dataframe thead tr:last-of-type th {\n",
       "        text-align: right;\n",
       "    }\n",
       "</style>\n",
       "<table border=\"1\" class=\"dataframe\">\n",
       "  <thead>\n",
       "    <tr>\n",
       "      <th></th>\n",
       "      <th colspan=\"3\" halign=\"left\">prices</th>\n",
       "    </tr>\n",
       "    <tr>\n",
       "      <th></th>\n",
       "      <th>min</th>\n",
       "      <th>mean</th>\n",
       "      <th>max</th>\n",
       "    </tr>\n",
       "    <tr>\n",
       "      <th>Profile</th>\n",
       "      <th></th>\n",
       "      <th></th>\n",
       "      <th></th>\n",
       "    </tr>\n",
       "  </thead>\n",
       "  <tbody>\n",
       "    <tr>\n",
       "      <th>Middle-Aged No Parents Average income</th>\n",
       "      <td>1.0</td>\n",
       "      <td>7.966404</td>\n",
       "      <td>25.0</td>\n",
       "    </tr>\n",
       "    <tr>\n",
       "      <th>Middle-Aged No Parents High income</th>\n",
       "      <td>1.0</td>\n",
       "      <td>7.936756</td>\n",
       "      <td>25.0</td>\n",
       "    </tr>\n",
       "    <tr>\n",
       "      <th>Middle-Aged No Parents Low income</th>\n",
       "      <td>1.0</td>\n",
       "      <td>7.064197</td>\n",
       "      <td>25.0</td>\n",
       "    </tr>\n",
       "    <tr>\n",
       "      <th>Middle-Aged Parents Average income</th>\n",
       "      <td>1.0</td>\n",
       "      <td>7.959298</td>\n",
       "      <td>25.0</td>\n",
       "    </tr>\n",
       "    <tr>\n",
       "      <th>Middle-Aged Parents High income</th>\n",
       "      <td>1.0</td>\n",
       "      <td>7.953484</td>\n",
       "      <td>25.0</td>\n",
       "    </tr>\n",
       "    <tr>\n",
       "      <th>Middle-Aged Parents Low income</th>\n",
       "      <td>1.0</td>\n",
       "      <td>7.078014</td>\n",
       "      <td>25.0</td>\n",
       "    </tr>\n",
       "    <tr>\n",
       "      <th>Senior No Parents Average income</th>\n",
       "      <td>1.0</td>\n",
       "      <td>7.962155</td>\n",
       "      <td>25.0</td>\n",
       "    </tr>\n",
       "    <tr>\n",
       "      <th>Senior No Parents High income</th>\n",
       "      <td>1.0</td>\n",
       "      <td>7.949451</td>\n",
       "      <td>25.0</td>\n",
       "    </tr>\n",
       "    <tr>\n",
       "      <th>Senior No Parents Low income</th>\n",
       "      <td>1.0</td>\n",
       "      <td>6.712994</td>\n",
       "      <td>25.0</td>\n",
       "    </tr>\n",
       "    <tr>\n",
       "      <th>Senior Parents Average income</th>\n",
       "      <td>1.0</td>\n",
       "      <td>7.949848</td>\n",
       "      <td>25.0</td>\n",
       "    </tr>\n",
       "    <tr>\n",
       "      <th>Senior Parents High income</th>\n",
       "      <td>1.0</td>\n",
       "      <td>7.961292</td>\n",
       "      <td>25.0</td>\n",
       "    </tr>\n",
       "    <tr>\n",
       "      <th>Senior Parents Low income</th>\n",
       "      <td>1.0</td>\n",
       "      <td>6.704019</td>\n",
       "      <td>25.0</td>\n",
       "    </tr>\n",
       "    <tr>\n",
       "      <th>Young No Parents Average income</th>\n",
       "      <td>1.0</td>\n",
       "      <td>7.940811</td>\n",
       "      <td>25.0</td>\n",
       "    </tr>\n",
       "    <tr>\n",
       "      <th>Young No Parents High income</th>\n",
       "      <td>1.0</td>\n",
       "      <td>7.738318</td>\n",
       "      <td>25.0</td>\n",
       "    </tr>\n",
       "    <tr>\n",
       "      <th>Young No Parents Low income</th>\n",
       "      <td>1.0</td>\n",
       "      <td>7.600458</td>\n",
       "      <td>25.0</td>\n",
       "    </tr>\n",
       "    <tr>\n",
       "      <th>Young Parents Average income</th>\n",
       "      <td>1.0</td>\n",
       "      <td>7.952359</td>\n",
       "      <td>25.0</td>\n",
       "    </tr>\n",
       "    <tr>\n",
       "      <th>Young Parents High income</th>\n",
       "      <td>1.0</td>\n",
       "      <td>7.812762</td>\n",
       "      <td>25.0</td>\n",
       "    </tr>\n",
       "    <tr>\n",
       "      <th>Young Parents Low income</th>\n",
       "      <td>1.0</td>\n",
       "      <td>7.595724</td>\n",
       "      <td>25.0</td>\n",
       "    </tr>\n",
       "  </tbody>\n",
       "</table>\n",
       "</div>"
      ],
      "text/plain": [
       "                                      prices                \n",
       "                                         min      mean   max\n",
       "Profile                                                     \n",
       "Middle-Aged No Parents Average income    1.0  7.966404  25.0\n",
       "Middle-Aged No Parents High income       1.0  7.936756  25.0\n",
       "Middle-Aged No Parents Low income        1.0  7.064197  25.0\n",
       "Middle-Aged Parents Average income       1.0  7.959298  25.0\n",
       "Middle-Aged Parents High income          1.0  7.953484  25.0\n",
       "Middle-Aged Parents Low income           1.0  7.078014  25.0\n",
       "Senior No Parents Average income         1.0  7.962155  25.0\n",
       "Senior No Parents High income            1.0  7.949451  25.0\n",
       "Senior No Parents Low income             1.0  6.712994  25.0\n",
       "Senior Parents Average income            1.0  7.949848  25.0\n",
       "Senior Parents High income               1.0  7.961292  25.0\n",
       "Senior Parents Low income                1.0  6.704019  25.0\n",
       "Young No Parents Average income          1.0  7.940811  25.0\n",
       "Young No Parents High income             1.0  7.738318  25.0\n",
       "Young No Parents Low income              1.0  7.600458  25.0\n",
       "Young Parents Average income             1.0  7.952359  25.0\n",
       "Young Parents High income                1.0  7.812762  25.0\n",
       "Young Parents Low income                 1.0  7.595724  25.0"
      ]
     },
     "execution_count": 66,
     "metadata": {},
     "output_type": "execute_result"
    }
   ],
   "source": [
    "Freq_Profile=df.groupby('Profile').agg({'prices':['min','mean', 'max']})\n",
    "Freq_Profile"
   ]
  },
  {
   "cell_type": "code",
   "execution_count": 67,
   "id": "c7ca6c49-5641-47f6-9bc0-6ac9f199a4cb",
   "metadata": {},
   "outputs": [],
   "source": [
    "# 8.Compare your customer profiles with regions and departments."
   ]
  },
  {
   "cell_type": "code",
   "execution_count": 68,
   "id": "da4b5c19-383b-4fd5-83de-69fdc87c78a5",
   "metadata": {},
   "outputs": [],
   "source": [
    "# Create a crosstable for profile and region\n",
    "crosstab_2 = pd.crosstab(df['Profile'], df['region'], dropna = False)"
   ]
  },
  {
   "cell_type": "code",
   "execution_count": 69,
   "id": "922a5f4f-ebdf-4c24-a943-09acb04a0c93",
   "metadata": {},
   "outputs": [
    {
     "data": {
      "text/html": [
       "<div>\n",
       "<style scoped>\n",
       "    .dataframe tbody tr th:only-of-type {\n",
       "        vertical-align: middle;\n",
       "    }\n",
       "\n",
       "    .dataframe tbody tr th {\n",
       "        vertical-align: top;\n",
       "    }\n",
       "\n",
       "    .dataframe thead th {\n",
       "        text-align: right;\n",
       "    }\n",
       "</style>\n",
       "<table border=\"1\" class=\"dataframe\">\n",
       "  <thead>\n",
       "    <tr style=\"text-align: right;\">\n",
       "      <th>region</th>\n",
       "      <th>Midwest</th>\n",
       "      <th>Northeast</th>\n",
       "      <th>South</th>\n",
       "      <th>West</th>\n",
       "    </tr>\n",
       "    <tr>\n",
       "      <th>Profile</th>\n",
       "      <th></th>\n",
       "      <th></th>\n",
       "      <th></th>\n",
       "      <th></th>\n",
       "    </tr>\n",
       "  </thead>\n",
       "  <tbody>\n",
       "    <tr>\n",
       "      <th>Middle-Aged No Parents Average income</th>\n",
       "      <td>435606</td>\n",
       "      <td>285982</td>\n",
       "      <td>583248</td>\n",
       "      <td>473298</td>\n",
       "    </tr>\n",
       "    <tr>\n",
       "      <th>Middle-Aged No Parents High income</th>\n",
       "      <td>289990</td>\n",
       "      <td>193138</td>\n",
       "      <td>410546</td>\n",
       "      <td>302440</td>\n",
       "    </tr>\n",
       "    <tr>\n",
       "      <th>Middle-Aged No Parents Low income</th>\n",
       "      <td>157281</td>\n",
       "      <td>121442</td>\n",
       "      <td>232172</td>\n",
       "      <td>171127</td>\n",
       "    </tr>\n",
       "    <tr>\n",
       "      <th>Middle-Aged Parents Average income</th>\n",
       "      <td>1244305</td>\n",
       "      <td>932406</td>\n",
       "      <td>1791513</td>\n",
       "      <td>1371140</td>\n",
       "    </tr>\n",
       "    <tr>\n",
       "      <th>Middle-Aged Parents High income</th>\n",
       "      <td>841955</td>\n",
       "      <td>627487</td>\n",
       "      <td>1125279</td>\n",
       "      <td>892126</td>\n",
       "    </tr>\n",
       "    <tr>\n",
       "      <th>Middle-Aged Parents Low income</th>\n",
       "      <td>474359</td>\n",
       "      <td>358266</td>\n",
       "      <td>668936</td>\n",
       "      <td>510883</td>\n",
       "    </tr>\n",
       "    <tr>\n",
       "      <th>Senior No Parents Average income</th>\n",
       "      <td>230359</td>\n",
       "      <td>173484</td>\n",
       "      <td>306234</td>\n",
       "      <td>235300</td>\n",
       "    </tr>\n",
       "    <tr>\n",
       "      <th>Senior No Parents High income</th>\n",
       "      <td>162001</td>\n",
       "      <td>138012</td>\n",
       "      <td>230081</td>\n",
       "      <td>193739</td>\n",
       "    </tr>\n",
       "    <tr>\n",
       "      <th>Senior No Parents Low income</th>\n",
       "      <td>56025</td>\n",
       "      <td>45021</td>\n",
       "      <td>75756</td>\n",
       "      <td>59709</td>\n",
       "    </tr>\n",
       "    <tr>\n",
       "      <th>Senior Parents Average income</th>\n",
       "      <td>658895</td>\n",
       "      <td>505237</td>\n",
       "      <td>936511</td>\n",
       "      <td>732199</td>\n",
       "    </tr>\n",
       "    <tr>\n",
       "      <th>Senior Parents High income</th>\n",
       "      <td>525747</td>\n",
       "      <td>396950</td>\n",
       "      <td>743784</td>\n",
       "      <td>566166</td>\n",
       "    </tr>\n",
       "    <tr>\n",
       "      <th>Senior Parents Low income</th>\n",
       "      <td>166579</td>\n",
       "      <td>135786</td>\n",
       "      <td>256668</td>\n",
       "      <td>200591</td>\n",
       "    </tr>\n",
       "    <tr>\n",
       "      <th>Young No Parents Average income</th>\n",
       "      <td>267556</td>\n",
       "      <td>210630</td>\n",
       "      <td>389294</td>\n",
       "      <td>273697</td>\n",
       "    </tr>\n",
       "    <tr>\n",
       "      <th>Young No Parents High income</th>\n",
       "      <td>7314</td>\n",
       "      <td>4646</td>\n",
       "      <td>9185</td>\n",
       "      <td>3299</td>\n",
       "    </tr>\n",
       "    <tr>\n",
       "      <th>Young No Parents Low income</th>\n",
       "      <td>216684</td>\n",
       "      <td>182127</td>\n",
       "      <td>345417</td>\n",
       "      <td>267841</td>\n",
       "    </tr>\n",
       "    <tr>\n",
       "      <th>Young Parents Average income</th>\n",
       "      <td>792284</td>\n",
       "      <td>617034</td>\n",
       "      <td>1161509</td>\n",
       "      <td>874404</td>\n",
       "    </tr>\n",
       "    <tr>\n",
       "      <th>Young Parents High income</th>\n",
       "      <td>14831</td>\n",
       "      <td>12605</td>\n",
       "      <td>30392</td>\n",
       "      <td>19378</td>\n",
       "    </tr>\n",
       "    <tr>\n",
       "      <th>Young Parents Low income</th>\n",
       "      <td>719742</td>\n",
       "      <td>524432</td>\n",
       "      <td>1014614</td>\n",
       "      <td>779890</td>\n",
       "    </tr>\n",
       "  </tbody>\n",
       "</table>\n",
       "</div>"
      ],
      "text/plain": [
       "region                                 Midwest  Northeast    South     West\n",
       "Profile                                                                    \n",
       "Middle-Aged No Parents Average income   435606     285982   583248   473298\n",
       "Middle-Aged No Parents High income      289990     193138   410546   302440\n",
       "Middle-Aged No Parents Low income       157281     121442   232172   171127\n",
       "Middle-Aged Parents Average income     1244305     932406  1791513  1371140\n",
       "Middle-Aged Parents High income         841955     627487  1125279   892126\n",
       "Middle-Aged Parents Low income          474359     358266   668936   510883\n",
       "Senior No Parents Average income        230359     173484   306234   235300\n",
       "Senior No Parents High income           162001     138012   230081   193739\n",
       "Senior No Parents Low income             56025      45021    75756    59709\n",
       "Senior Parents Average income           658895     505237   936511   732199\n",
       "Senior Parents High income              525747     396950   743784   566166\n",
       "Senior Parents Low income               166579     135786   256668   200591\n",
       "Young No Parents Average income         267556     210630   389294   273697\n",
       "Young No Parents High income              7314       4646     9185     3299\n",
       "Young No Parents Low income             216684     182127   345417   267841\n",
       "Young Parents Average income            792284     617034  1161509   874404\n",
       "Young Parents High income                14831      12605    30392    19378\n",
       "Young Parents Low income                719742     524432  1014614   779890"
      ]
     },
     "execution_count": 69,
     "metadata": {},
     "output_type": "execute_result"
    }
   ],
   "source": [
    "crosstab_2"
   ]
  },
  {
   "cell_type": "code",
   "execution_count": 70,
   "id": "7d362995-cfe7-4c49-ba66-60babb72afe6",
   "metadata": {},
   "outputs": [
    {
     "name": "stderr",
     "output_type": "stream",
     "text": [
      "C:\\Users\\35196\\anaconda3\\Lib\\site-packages\\seaborn\\_oldcore.py:1119: FutureWarning: use_inf_as_na option is deprecated and will be removed in a future version. Convert inf values to NaN before operating instead.\n",
      "  with pd.option_context('mode.use_inf_as_na', True):\n"
     ]
    },
    {
     "data": {
      "image/png": "[encoded data removed]",
      "text/plain": [
       "<Figure size 640x480 with 1 Axes>"
      ]
     },
     "metadata": {},
     "output_type": "display_data"
    }
   ],
   "source": [
    "# Stacked plot of profile and region\n",
    "histplot=sns.histplot(data=df, y='Profile',hue='region',multiple='stack')\n"
   ]
  },
  {
   "cell_type": "code",
   "execution_count": 71,
   "id": "115f6808-3e32-4b88-986e-a8f076d5f125",
   "metadata": {},
   "outputs": [],
   "source": [
    "histplot.figure.savefig(os.path.join(path, '04 Analysis','Visualizations', 'Bar Chart - Customer Profile by region.png'))"
   ]
  },
  {
   "cell_type": "code",
   "execution_count": 72,
   "id": "66a5ce0c-05f2-404f-aa04-0720456bd3a7",
   "metadata": {},
   "outputs": [],
   "source": [
    "# Create a crosstable for profile and department_id\n",
    "crosstab_3 = pd.crosstab(df['Profile'], df['department_id'])"
   ]
  },
  {
   "cell_type": "code",
   "execution_count": 73,
   "id": "7c54231f-46f3-4ebb-9d50-173fb447669c",
   "metadata": {},
   "outputs": [
    {
     "data": {
      "text/html": [
       "<div>\n",
       "<style scoped>\n",
       "    .dataframe tbody tr th:only-of-type {\n",
       "        vertical-align: middle;\n",
       "    }\n",
       "\n",
       "    .dataframe tbody tr th {\n",
       "        vertical-align: top;\n",
       "    }\n",
       "\n",
       "    .dataframe thead th {\n",
       "        text-align: right;\n",
       "    }\n",
       "</style>\n",
       "<table border=\"1\" class=\"dataframe\">\n",
       "  <thead>\n",
       "    <tr style=\"text-align: right;\">\n",
       "      <th>department_id</th>\n",
       "      <th>1</th>\n",
       "      <th>2</th>\n",
       "      <th>3</th>\n",
       "      <th>4</th>\n",
       "      <th>5</th>\n",
       "      <th>6</th>\n",
       "      <th>7</th>\n",
       "      <th>8</th>\n",
       "      <th>9</th>\n",
       "      <th>10</th>\n",
       "      <th>...</th>\n",
       "      <th>12</th>\n",
       "      <th>13</th>\n",
       "      <th>14</th>\n",
       "      <th>15</th>\n",
       "      <th>16</th>\n",
       "      <th>17</th>\n",
       "      <th>18</th>\n",
       "      <th>19</th>\n",
       "      <th>20</th>\n",
       "      <th>21</th>\n",
       "    </tr>\n",
       "    <tr>\n",
       "      <th>Profile</th>\n",
       "      <th></th>\n",
       "      <th></th>\n",
       "      <th></th>\n",
       "      <th></th>\n",
       "      <th></th>\n",
       "      <th></th>\n",
       "      <th></th>\n",
       "      <th></th>\n",
       "      <th></th>\n",
       "      <th></th>\n",
       "      <th></th>\n",
       "      <th></th>\n",
       "      <th></th>\n",
       "      <th></th>\n",
       "      <th></th>\n",
       "      <th></th>\n",
       "      <th></th>\n",
       "      <th></th>\n",
       "      <th></th>\n",
       "      <th></th>\n",
       "      <th></th>\n",
       "    </tr>\n",
       "  </thead>\n",
       "  <tbody>\n",
       "    <tr>\n",
       "      <th>Middle-Aged No Parents Average income</th>\n",
       "      <td>123451</td>\n",
       "      <td>1985</td>\n",
       "      <td>66630</td>\n",
       "      <td>538027</td>\n",
       "      <td>7805</td>\n",
       "      <td>15524</td>\n",
       "      <td>139768</td>\n",
       "      <td>5085</td>\n",
       "      <td>48779</td>\n",
       "      <td>1813</td>\n",
       "      <td>...</td>\n",
       "      <td>41477</td>\n",
       "      <td>102798</td>\n",
       "      <td>37360</td>\n",
       "      <td>59787</td>\n",
       "      <td>301165</td>\n",
       "      <td>37480</td>\n",
       "      <td>26607</td>\n",
       "      <td>136983</td>\n",
       "      <td>58367</td>\n",
       "      <td>3473</td>\n",
       "    </tr>\n",
       "    <tr>\n",
       "      <th>Middle-Aged No Parents High income</th>\n",
       "      <td>82725</td>\n",
       "      <td>1394</td>\n",
       "      <td>44715</td>\n",
       "      <td>352989</td>\n",
       "      <td>6887</td>\n",
       "      <td>10041</td>\n",
       "      <td>95718</td>\n",
       "      <td>3944</td>\n",
       "      <td>32365</td>\n",
       "      <td>1171</td>\n",
       "      <td>...</td>\n",
       "      <td>27157</td>\n",
       "      <td>71014</td>\n",
       "      <td>25746</td>\n",
       "      <td>40804</td>\n",
       "      <td>203807</td>\n",
       "      <td>26527</td>\n",
       "      <td>17498</td>\n",
       "      <td>93884</td>\n",
       "      <td>39220</td>\n",
       "      <td>2538</td>\n",
       "    </tr>\n",
       "    <tr>\n",
       "      <th>Middle-Aged No Parents Low income</th>\n",
       "      <td>43657</td>\n",
       "      <td>795</td>\n",
       "      <td>21971</td>\n",
       "      <td>183788</td>\n",
       "      <td>3244</td>\n",
       "      <td>4713</td>\n",
       "      <td>69919</td>\n",
       "      <td>1408</td>\n",
       "      <td>14644</td>\n",
       "      <td>744</td>\n",
       "      <td>...</td>\n",
       "      <td>9373</td>\n",
       "      <td>35604</td>\n",
       "      <td>16929</td>\n",
       "      <td>18360</td>\n",
       "      <td>106074</td>\n",
       "      <td>15747</td>\n",
       "      <td>5712</td>\n",
       "      <td>95412</td>\n",
       "      <td>22727</td>\n",
       "      <td>1396</td>\n",
       "    </tr>\n",
       "    <tr>\n",
       "      <th>Middle-Aged Parents Average income</th>\n",
       "      <td>369173</td>\n",
       "      <td>5883</td>\n",
       "      <td>193441</td>\n",
       "      <td>1609425</td>\n",
       "      <td>22801</td>\n",
       "      <td>45320</td>\n",
       "      <td>422365</td>\n",
       "      <td>16265</td>\n",
       "      <td>147568</td>\n",
       "      <td>5573</td>\n",
       "      <td>...</td>\n",
       "      <td>125458</td>\n",
       "      <td>313095</td>\n",
       "      <td>110118</td>\n",
       "      <td>179312</td>\n",
       "      <td>903019</td>\n",
       "      <td>119141</td>\n",
       "      <td>79202</td>\n",
       "      <td>413412</td>\n",
       "      <td>172215</td>\n",
       "      <td>11180</td>\n",
       "    </tr>\n",
       "    <tr>\n",
       "      <th>Middle-Aged Parents High income</th>\n",
       "      <td>242901</td>\n",
       "      <td>3844</td>\n",
       "      <td>131293</td>\n",
       "      <td>1034941</td>\n",
       "      <td>16873</td>\n",
       "      <td>29831</td>\n",
       "      <td>275897</td>\n",
       "      <td>10719</td>\n",
       "      <td>96670</td>\n",
       "      <td>3436</td>\n",
       "      <td>...</td>\n",
       "      <td>83246</td>\n",
       "      <td>206546</td>\n",
       "      <td>73017</td>\n",
       "      <td>121018</td>\n",
       "      <td>592481</td>\n",
       "      <td>78479</td>\n",
       "      <td>47168</td>\n",
       "      <td>269998</td>\n",
       "      <td>113336</td>\n",
       "      <td>7450</td>\n",
       "    </tr>\n",
       "    <tr>\n",
       "      <th>Middle-Aged Parents Low income</th>\n",
       "      <td>130257</td>\n",
       "      <td>2214</td>\n",
       "      <td>67289</td>\n",
       "      <td>535624</td>\n",
       "      <td>9941</td>\n",
       "      <td>14422</td>\n",
       "      <td>204430</td>\n",
       "      <td>5460</td>\n",
       "      <td>44056</td>\n",
       "      <td>2754</td>\n",
       "      <td>...</td>\n",
       "      <td>27905</td>\n",
       "      <td>105627</td>\n",
       "      <td>50772</td>\n",
       "      <td>53674</td>\n",
       "      <td>308071</td>\n",
       "      <td>50103</td>\n",
       "      <td>20578</td>\n",
       "      <td>283255</td>\n",
       "      <td>63643</td>\n",
       "      <td>4080</td>\n",
       "    </tr>\n",
       "    <tr>\n",
       "      <th>Senior No Parents Average income</th>\n",
       "      <td>65299</td>\n",
       "      <td>1027</td>\n",
       "      <td>34422</td>\n",
       "      <td>285943</td>\n",
       "      <td>3820</td>\n",
       "      <td>7924</td>\n",
       "      <td>74417</td>\n",
       "      <td>2763</td>\n",
       "      <td>26075</td>\n",
       "      <td>1028</td>\n",
       "      <td>...</td>\n",
       "      <td>22684</td>\n",
       "      <td>55065</td>\n",
       "      <td>19097</td>\n",
       "      <td>31363</td>\n",
       "      <td>161509</td>\n",
       "      <td>19529</td>\n",
       "      <td>13092</td>\n",
       "      <td>74455</td>\n",
       "      <td>31530</td>\n",
       "      <td>1815</td>\n",
       "    </tr>\n",
       "    <tr>\n",
       "      <th>Senior No Parents High income</th>\n",
       "      <td>51771</td>\n",
       "      <td>731</td>\n",
       "      <td>26349</td>\n",
       "      <td>218543</td>\n",
       "      <td>3412</td>\n",
       "      <td>6312</td>\n",
       "      <td>57896</td>\n",
       "      <td>2942</td>\n",
       "      <td>19751</td>\n",
       "      <td>638</td>\n",
       "      <td>...</td>\n",
       "      <td>16533</td>\n",
       "      <td>42807</td>\n",
       "      <td>14121</td>\n",
       "      <td>23619</td>\n",
       "      <td>120628</td>\n",
       "      <td>16680</td>\n",
       "      <td>9138</td>\n",
       "      <td>56958</td>\n",
       "      <td>23241</td>\n",
       "      <td>1398</td>\n",
       "    </tr>\n",
       "    <tr>\n",
       "      <th>Senior No Parents Low income</th>\n",
       "      <td>16061</td>\n",
       "      <td>241</td>\n",
       "      <td>7358</td>\n",
       "      <td>57793</td>\n",
       "      <td>1416</td>\n",
       "      <td>1345</td>\n",
       "      <td>26388</td>\n",
       "      <td>677</td>\n",
       "      <td>4599</td>\n",
       "      <td>277</td>\n",
       "      <td>...</td>\n",
       "      <td>2487</td>\n",
       "      <td>11261</td>\n",
       "      <td>6213</td>\n",
       "      <td>5672</td>\n",
       "      <td>36780</td>\n",
       "      <td>6173</td>\n",
       "      <td>1993</td>\n",
       "      <td>38591</td>\n",
       "      <td>7056</td>\n",
       "      <td>508</td>\n",
       "    </tr>\n",
       "    <tr>\n",
       "      <th>Senior Parents Average income</th>\n",
       "      <td>196699</td>\n",
       "      <td>3031</td>\n",
       "      <td>103579</td>\n",
       "      <td>850943</td>\n",
       "      <td>11501</td>\n",
       "      <td>24590</td>\n",
       "      <td>219894</td>\n",
       "      <td>8736</td>\n",
       "      <td>79731</td>\n",
       "      <td>3001</td>\n",
       "      <td>...</td>\n",
       "      <td>67689</td>\n",
       "      <td>167837</td>\n",
       "      <td>57714</td>\n",
       "      <td>96811</td>\n",
       "      <td>480224</td>\n",
       "      <td>63138</td>\n",
       "      <td>38639</td>\n",
       "      <td>222849</td>\n",
       "      <td>92911</td>\n",
       "      <td>5973</td>\n",
       "    </tr>\n",
       "    <tr>\n",
       "      <th>Senior Parents High income</th>\n",
       "      <td>155467</td>\n",
       "      <td>2488</td>\n",
       "      <td>82956</td>\n",
       "      <td>662651</td>\n",
       "      <td>10852</td>\n",
       "      <td>18319</td>\n",
       "      <td>179962</td>\n",
       "      <td>6826</td>\n",
       "      <td>61171</td>\n",
       "      <td>2283</td>\n",
       "      <td>...</td>\n",
       "      <td>53582</td>\n",
       "      <td>130485</td>\n",
       "      <td>47476</td>\n",
       "      <td>76654</td>\n",
       "      <td>379055</td>\n",
       "      <td>50900</td>\n",
       "      <td>30819</td>\n",
       "      <td>172994</td>\n",
       "      <td>72584</td>\n",
       "      <td>4787</td>\n",
       "    </tr>\n",
       "    <tr>\n",
       "      <th>Senior Parents Low income</th>\n",
       "      <td>47233</td>\n",
       "      <td>832</td>\n",
       "      <td>23794</td>\n",
       "      <td>193212</td>\n",
       "      <td>3690</td>\n",
       "      <td>4737</td>\n",
       "      <td>87857</td>\n",
       "      <td>1807</td>\n",
       "      <td>14146</td>\n",
       "      <td>1109</td>\n",
       "      <td>...</td>\n",
       "      <td>7798</td>\n",
       "      <td>37719</td>\n",
       "      <td>20870</td>\n",
       "      <td>17821</td>\n",
       "      <td>112843</td>\n",
       "      <td>20007</td>\n",
       "      <td>6481</td>\n",
       "      <td>122627</td>\n",
       "      <td>23141</td>\n",
       "      <td>1424</td>\n",
       "    </tr>\n",
       "    <tr>\n",
       "      <th>Young No Parents Average income</th>\n",
       "      <td>78215</td>\n",
       "      <td>1238</td>\n",
       "      <td>42002</td>\n",
       "      <td>343608</td>\n",
       "      <td>4894</td>\n",
       "      <td>10038</td>\n",
       "      <td>89718</td>\n",
       "      <td>3382</td>\n",
       "      <td>31794</td>\n",
       "      <td>1176</td>\n",
       "      <td>...</td>\n",
       "      <td>26235</td>\n",
       "      <td>66394</td>\n",
       "      <td>23504</td>\n",
       "      <td>38765</td>\n",
       "      <td>194991</td>\n",
       "      <td>24152</td>\n",
       "      <td>16590</td>\n",
       "      <td>88840</td>\n",
       "      <td>37661</td>\n",
       "      <td>2548</td>\n",
       "    </tr>\n",
       "    <tr>\n",
       "      <th>Young No Parents High income</th>\n",
       "      <td>1616</td>\n",
       "      <td>50</td>\n",
       "      <td>1298</td>\n",
       "      <td>5213</td>\n",
       "      <td>683</td>\n",
       "      <td>189</td>\n",
       "      <td>2265</td>\n",
       "      <td>175</td>\n",
       "      <td>642</td>\n",
       "      <td>3</td>\n",
       "      <td>...</td>\n",
       "      <td>574</td>\n",
       "      <td>1551</td>\n",
       "      <td>604</td>\n",
       "      <td>865</td>\n",
       "      <td>4194</td>\n",
       "      <td>1458</td>\n",
       "      <td>173</td>\n",
       "      <td>1818</td>\n",
       "      <td>623</td>\n",
       "      <td>57</td>\n",
       "    </tr>\n",
       "    <tr>\n",
       "      <th>Young No Parents Low income</th>\n",
       "      <td>66553</td>\n",
       "      <td>1253</td>\n",
       "      <td>36650</td>\n",
       "      <td>289537</td>\n",
       "      <td>4666</td>\n",
       "      <td>8375</td>\n",
       "      <td>89252</td>\n",
       "      <td>3226</td>\n",
       "      <td>25647</td>\n",
       "      <td>1150</td>\n",
       "      <td>...</td>\n",
       "      <td>19358</td>\n",
       "      <td>57410</td>\n",
       "      <td>22858</td>\n",
       "      <td>31785</td>\n",
       "      <td>165228</td>\n",
       "      <td>23612</td>\n",
       "      <td>12525</td>\n",
       "      <td>103497</td>\n",
       "      <td>32957</td>\n",
       "      <td>2202</td>\n",
       "    </tr>\n",
       "    <tr>\n",
       "      <th>Young Parents Average income</th>\n",
       "      <td>236753</td>\n",
       "      <td>3957</td>\n",
       "      <td>125504</td>\n",
       "      <td>1036993</td>\n",
       "      <td>16119</td>\n",
       "      <td>29528</td>\n",
       "      <td>264017</td>\n",
       "      <td>10133</td>\n",
       "      <td>95273</td>\n",
       "      <td>3919</td>\n",
       "      <td>...</td>\n",
       "      <td>80767</td>\n",
       "      <td>202436</td>\n",
       "      <td>72618</td>\n",
       "      <td>117698</td>\n",
       "      <td>593014</td>\n",
       "      <td>75727</td>\n",
       "      <td>46753</td>\n",
       "      <td>268573</td>\n",
       "      <td>111980</td>\n",
       "      <td>7507</td>\n",
       "    </tr>\n",
       "    <tr>\n",
       "      <th>Young Parents High income</th>\n",
       "      <td>6592</td>\n",
       "      <td>204</td>\n",
       "      <td>3812</td>\n",
       "      <td>15235</td>\n",
       "      <td>2155</td>\n",
       "      <td>648</td>\n",
       "      <td>6779</td>\n",
       "      <td>338</td>\n",
       "      <td>2322</td>\n",
       "      <td>10</td>\n",
       "      <td>...</td>\n",
       "      <td>1788</td>\n",
       "      <td>4771</td>\n",
       "      <td>1913</td>\n",
       "      <td>2901</td>\n",
       "      <td>13843</td>\n",
       "      <td>3213</td>\n",
       "      <td>878</td>\n",
       "      <td>6335</td>\n",
       "      <td>2012</td>\n",
       "      <td>104</td>\n",
       "    </tr>\n",
       "    <tr>\n",
       "      <th>Young Parents Low income</th>\n",
       "      <td>207308</td>\n",
       "      <td>3244</td>\n",
       "      <td>107765</td>\n",
       "      <td>864808</td>\n",
       "      <td>13868</td>\n",
       "      <td>24135</td>\n",
       "      <td>265359</td>\n",
       "      <td>9174</td>\n",
       "      <td>76903</td>\n",
       "      <td>3366</td>\n",
       "      <td>...</td>\n",
       "      <td>60670</td>\n",
       "      <td>170285</td>\n",
       "      <td>69920</td>\n",
       "      <td>95165</td>\n",
       "      <td>500256</td>\n",
       "      <td>67791</td>\n",
       "      <td>36546</td>\n",
       "      <td>315925</td>\n",
       "      <td>98630</td>\n",
       "      <td>6328</td>\n",
       "    </tr>\n",
       "  </tbody>\n",
       "</table>\n",
       "<p>18 rows × 21 columns</p>\n",
       "</div>"
      ],
      "text/plain": [
       "department_id                              1     2       3        4      5   \\\n",
       "Profile                                                                       \n",
       "Middle-Aged No Parents Average income  123451  1985   66630   538027   7805   \n",
       "Middle-Aged No Parents High income      82725  1394   44715   352989   6887   \n",
       "Middle-Aged No Parents Low income       43657   795   21971   183788   3244   \n",
       "Middle-Aged Parents Average income     369173  5883  193441  1609425  22801   \n",
       "Middle-Aged Parents High income        242901  3844  131293  1034941  16873   \n",
       "Middle-Aged Parents Low income         130257  2214   67289   535624   9941   \n",
       "Senior No Parents Average income        65299  1027   34422   285943   3820   \n",
       "Senior No Parents High income           51771   731   26349   218543   3412   \n",
       "Senior No Parents Low income            16061   241    7358    57793   1416   \n",
       "Senior Parents Average income          196699  3031  103579   850943  11501   \n",
       "Senior Parents High income             155467  2488   82956   662651  10852   \n",
       "Senior Parents Low income               47233   832   23794   193212   3690   \n",
       "Young No Parents Average income         78215  1238   42002   343608   4894   \n",
       "Young No Parents High income             1616    50    1298     5213    683   \n",
       "Young No Parents Low income             66553  1253   36650   289537   4666   \n",
       "Young Parents Average income           236753  3957  125504  1036993  16119   \n",
       "Young Parents High income                6592   204    3812    15235   2155   \n",
       "Young Parents Low income               207308  3244  107765   864808  13868   \n",
       "\n",
       "department_id                             6       7      8       9     10  \\\n",
       "Profile                                                                     \n",
       "Middle-Aged No Parents Average income  15524  139768   5085   48779  1813   \n",
       "Middle-Aged No Parents High income     10041   95718   3944   32365  1171   \n",
       "Middle-Aged No Parents Low income       4713   69919   1408   14644   744   \n",
       "Middle-Aged Parents Average income     45320  422365  16265  147568  5573   \n",
       "Middle-Aged Parents High income        29831  275897  10719   96670  3436   \n",
       "Middle-Aged Parents Low income         14422  204430   5460   44056  2754   \n",
       "Senior No Parents Average income        7924   74417   2763   26075  1028   \n",
       "Senior No Parents High income           6312   57896   2942   19751   638   \n",
       "Senior No Parents Low income            1345   26388    677    4599   277   \n",
       "Senior Parents Average income          24590  219894   8736   79731  3001   \n",
       "Senior Parents High income             18319  179962   6826   61171  2283   \n",
       "Senior Parents Low income               4737   87857   1807   14146  1109   \n",
       "Young No Parents Average income        10038   89718   3382   31794  1176   \n",
       "Young No Parents High income             189    2265    175     642     3   \n",
       "Young No Parents Low income             8375   89252   3226   25647  1150   \n",
       "Young Parents Average income           29528  264017  10133   95273  3919   \n",
       "Young Parents High income                648    6779    338    2322    10   \n",
       "Young Parents Low income               24135  265359   9174   76903  3366   \n",
       "\n",
       "department_id                          ...      12      13      14      15  \\\n",
       "Profile                                ...                                   \n",
       "Middle-Aged No Parents Average income  ...   41477  102798   37360   59787   \n",
       "Middle-Aged No Parents High income     ...   27157   71014   25746   40804   \n",
       "Middle-Aged No Parents Low income      ...    9373   35604   16929   18360   \n",
       "Middle-Aged Parents Average income     ...  125458  313095  110118  179312   \n",
       "Middle-Aged Parents High income        ...   83246  206546   73017  121018   \n",
       "Middle-Aged Parents Low income         ...   27905  105627   50772   53674   \n",
       "Senior No Parents Average income       ...   22684   55065   19097   31363   \n",
       "Senior No Parents High income          ...   16533   42807   14121   23619   \n",
       "Senior No Parents Low income           ...    2487   11261    6213    5672   \n",
       "Senior Parents Average income          ...   67689  167837   57714   96811   \n",
       "Senior Parents High income             ...   53582  130485   47476   76654   \n",
       "Senior Parents Low income              ...    7798   37719   20870   17821   \n",
       "Young No Parents Average income        ...   26235   66394   23504   38765   \n",
       "Young No Parents High income           ...     574    1551     604     865   \n",
       "Young No Parents Low income            ...   19358   57410   22858   31785   \n",
       "Young Parents Average income           ...   80767  202436   72618  117698   \n",
       "Young Parents High income              ...    1788    4771    1913    2901   \n",
       "Young Parents Low income               ...   60670  170285   69920   95165   \n",
       "\n",
       "department_id                              16      17     18      19      20  \\\n",
       "Profile                                                                        \n",
       "Middle-Aged No Parents Average income  301165   37480  26607  136983   58367   \n",
       "Middle-Aged No Parents High income     203807   26527  17498   93884   39220   \n",
       "Middle-Aged No Parents Low income      106074   15747   5712   95412   22727   \n",
       "Middle-Aged Parents Average income     903019  119141  79202  413412  172215   \n",
       "Middle-Aged Parents High income        592481   78479  47168  269998  113336   \n",
       "Middle-Aged Parents Low income         308071   50103  20578  283255   63643   \n",
       "Senior No Parents Average income       161509   19529  13092   74455   31530   \n",
       "Senior No Parents High income          120628   16680   9138   56958   23241   \n",
       "Senior No Parents Low income            36780    6173   1993   38591    7056   \n",
       "Senior Parents Average income          480224   63138  38639  222849   92911   \n",
       "Senior Parents High income             379055   50900  30819  172994   72584   \n",
       "Senior Parents Low income              112843   20007   6481  122627   23141   \n",
       "Young No Parents Average income        194991   24152  16590   88840   37661   \n",
       "Young No Parents High income             4194    1458    173    1818     623   \n",
       "Young No Parents Low income            165228   23612  12525  103497   32957   \n",
       "Young Parents Average income           593014   75727  46753  268573  111980   \n",
       "Young Parents High income               13843    3213    878    6335    2012   \n",
       "Young Parents Low income               500256   67791  36546  315925   98630   \n",
       "\n",
       "department_id                             21  \n",
       "Profile                                       \n",
       "Middle-Aged No Parents Average income   3473  \n",
       "Middle-Aged No Parents High income      2538  \n",
       "Middle-Aged No Parents Low income       1396  \n",
       "Middle-Aged Parents Average income     11180  \n",
       "Middle-Aged Parents High income         7450  \n",
       "Middle-Aged Parents Low income          4080  \n",
       "Senior No Parents Average income        1815  \n",
       "Senior No Parents High income           1398  \n",
       "Senior No Parents Low income             508  \n",
       "Senior Parents Average income           5973  \n",
       "Senior Parents High income              4787  \n",
       "Senior Parents Low income               1424  \n",
       "Young No Parents Average income         2548  \n",
       "Young No Parents High income              57  \n",
       "Young No Parents Low income             2202  \n",
       "Young Parents Average income            7507  \n",
       "Young Parents High income                104  \n",
       "Young Parents Low income                6328  \n",
       "\n",
       "[18 rows x 21 columns]"
      ]
     },
     "execution_count": 73,
     "metadata": {},
     "output_type": "execute_result"
    }
   ],
   "source": [
    "crosstab_3"
   ]
  },
  {
   "cell_type": "code",
   "execution_count": 74,
   "id": "36362afa-1ab6-420c-aba7-0a1bcf2a4dbb",
   "metadata": {},
   "outputs": [
    {
     "data": {
      "image/png": "[encoded data removed]",
      "text/plain": [
       "<Figure size 640x480 with 2 Axes>"
      ]
     },
     "metadata": {},
     "output_type": "display_data"
    }
   ],
   "source": [
    "# Since there are 21 different departments and 18 profiles, a heat map could be the best choice to represent \n",
    "heat_map=sns.heatmap(crosstab_3, cmap='YlGnBu', fmt='g')\n"
   ]
  },
  {
   "cell_type": "code",
   "execution_count": 75,
   "id": "5befe8c0-9b48-44b4-bbcb-57a103b4b757",
   "metadata": {},
   "outputs": [
    {
     "data": {
      "image/png": "[encoded data removed]",
      "text/plain": [
       "<Figure size 640x480 with 2 Axes>"
      ]
     },
     "execution_count": 75,
     "metadata": {},
     "output_type": "execute_result"
    }
   ],
   "source": [
    "heat_map.figure"
   ]
  },
  {
   "cell_type": "code",
   "execution_count": 76,
   "id": "deb4c58c-0de5-4a17-a5a1-9e627d346329",
   "metadata": {},
   "outputs": [],
   "source": [
    "heat_map.figure.savefig(os.path.join(path, '04 Analysis','Visualizations', 'Heat Map - Profile and Department_id.png'))"
   ]
  },
  {
   "cell_type": "code",
   "execution_count": 77,
   "id": "c96adeaa-3067-48c6-a4b1-7ea8283c3a8d",
   "metadata": {},
   "outputs": [
    {
     "name": "stdout",
     "output_type": "stream",
     "text": [
      "<class 'pandas.core.frame.DataFrame'>\n",
      "Index: 30964564 entries, 0 to 32404854\n",
      "Data columns (total 39 columns):\n",
      " #   Column                         Dtype   \n",
      "---  ------                         -----   \n",
      " 0   Unnamed: 0_x                   int64   \n",
      " 1   order_id                       int64   \n",
      " 2   user_id                        int64   \n",
      " 3   eval_set                       object  \n",
      " 4   order_number                   int64   \n",
      " 5   order_dow                      int64   \n",
      " 6   order_hour_of_day              int64   \n",
      " 7   days_since_prior_order         float64 \n",
      " 8   product_id                     int64   \n",
      " 9   add_to_cart_order              int64   \n",
      " 10  reordered                      int64   \n",
      " 11  Unnamed: 0_y                   int64   \n",
      " 12  product_name                   object  \n",
      " 13  aisle_id                       int64   \n",
      " 14  department_id                  int64   \n",
      " 15  prices                         float64 \n",
      " 16  price_range                    object  \n",
      " 17  busiest_days                   object  \n",
      " 18  busiest_period_of_day          object  \n",
      " 19  max_order                      int64   \n",
      " 20  loyalty_flag                   object  \n",
      " 21  avg_spender                    float64 \n",
      " 22  spender_flag                   object  \n",
      " 23  median_days_since_prior_order  float64 \n",
      " 24  frequency_flag                 object  \n",
      " 25  gender                         object  \n",
      " 26  state                          object  \n",
      " 27  age                            int64   \n",
      " 28  date_joined                    object  \n",
      " 29  n_dependants                   int64   \n",
      " 30  marital_status                 object  \n",
      " 31  income                         int64   \n",
      " 32  _merge                         category\n",
      " 33  region                         object  \n",
      " 34  activity                       object  \n",
      " 35  age_group                      object  \n",
      " 36  income_group                   object  \n",
      " 37  dependents_flag                object  \n",
      " 38  Profile                        object  \n",
      "dtypes: category(1), float64(4), int64(16), object(18)\n",
      "memory usage: 9.0+ GB\n"
     ]
    }
   ],
   "source": [
    "# 9. Produce suitable charts to illustrate your results\n",
    "df.info()"
   ]
  },
  {
   "cell_type": "code",
   "execution_count": 122,
   "id": "719906df-c8eb-440a-a0a7-c7d7467bc1dd",
   "metadata": {},
   "outputs": [
    {
     "data": {
      "text/plain": [
       "Text(0.5, 1.0, 'Marital Status')"
      ]
     },
     "execution_count": 122,
     "metadata": {},
     "output_type": "execute_result"
    },
    {
     "data": {
      "image/png": "[encoded data removed]",
      "text/plain": [
       "<Figure size 640x480 with 1 Axes>"
      ]
     },
     "metadata": {},
     "output_type": "display_data"
    }
   ],
   "source": [
    "# Analysing Marital Status\n",
    "marital_dist = (df['marital_status'].value_counts(normalize=True) * 100).sort_index()\n",
    "marital_pie=plt.pie(marital_dist, labels=marital_dist.index, autopct='%1.1f%%', colors=['gray', 'olive', 'lightblue', 'purple'])\n",
    "plt.title('Marital Status')"
   ]
  },
  {
   "cell_type": "code",
   "execution_count": null,
   "id": "1e199c25-8459-45d1-810e-3ba4d0e5e07c",
   "metadata": {},
   "outputs": [],
   "source": [
    "# Analysing top 5 departments\n",
    "department_counts = df['department_id'].value_counts()\n",
    "department_counts"
   ]
  },
  {
   "cell_type": "code",
   "execution_count": 105,
   "id": "f3879fa1-34d8-4d7f-a699-cbcdfde4e36a",
   "metadata": {},
   "outputs": [
    {
     "data": {
      "image/png": "[encoded data removed]",
      "text/plain": [
       "<Figure size 640x480 with 1 Axes>"
      ]
     },
     "metadata": {},
     "output_type": "display_data"
    }
   ],
   "source": [
    "bar_chart2=df['department_id'].value_counts().sort_values(ascending=False).plot.bar()"
   ]
  },
  {
   "cell_type": "code",
   "execution_count": 108,
   "id": "efa095a0-23b3-4fd7-bb0d-5cdb64e4fc74",
   "metadata": {},
   "outputs": [],
   "source": [
    "# Export \n",
    "bar_chart2.figure.savefig(os.path.join(path, '04 Analysis','Visualizations', 'Bar Chart - Department number of orders.png'))"
   ]
  },
  {
   "cell_type": "code",
   "execution_count": 131,
   "id": "a0406159-558a-4c17-837c-a734d304f2b2",
   "metadata": {
    "scrolled": true
   },
   "outputs": [
    {
     "data": {
      "text/plain": [
       "<function matplotlib.pyplot.figure(num: 'int | str | Figure | SubFigure | None' = None, figsize: 'tuple[float, float] | None' = None, dpi: 'float | None' = None, *, facecolor: 'ColorType | None' = None, edgecolor: 'ColorType | None' = None, frameon: 'bool' = True, FigureClass: 'type[Figure]' = <class 'matplotlib.figure.Figure'>, clear: 'bool' = False, **kwargs) -> 'Figure'>"
      ]
     },
     "execution_count": 131,
     "metadata": {},
     "output_type": "execute_result"
    },
    {
     "data": {
      "image/png": "[encoded data removed]",
      "text/plain": [
       "<Figure size 640x480 with 1 Axes>"
      ]
     },
     "metadata": {},
     "output_type": "display_data"
    }
   ],
   "source": [
    "# Analysing Gender\n",
    "gender_dist = (df['gender'].value_counts(normalize=True) * 100).sort_index()\n",
    "gender=plt.pie(gender_dist, labels=gender_dist.index, autopct='%1.1f%%', colors=['pink', 'blue'])\n",
    "plt.title('Customer Gender')\n",
    "plt.figure"
   ]
  },
  {
   "cell_type": "code",
   "execution_count": 73,
   "id": "bea3cfa2-dd43-4851-9f86-a31d0dcbebf7",
   "metadata": {},
   "outputs": [],
   "source": [
    "# Analysing Price range\n",
    "# Creating price range group"
   ]
  },
  {
   "cell_type": "code",
   "execution_count": 68,
   "id": "9191f603-9015-4e1b-9945-84d46bebb5f2",
   "metadata": {},
   "outputs": [],
   "source": [
    "def price_label(row):\n",
    "\n",
    "  if row['prices'] <= 5:\n",
    "    return 'Low-range product'\n",
    "  elif (row['prices'] > 5) and (row['prices'] <= 15):\n",
    "    return 'Mid-range product'\n",
    "  elif row['prices'] > 15:\n",
    "    return 'High range'\n",
    "  else: return 'Not enough data'"
   ]
  },
  {
   "cell_type": "code",
   "execution_count": 69,
   "id": "2dd78e20-27a0-4777-807e-6634176f06da",
   "metadata": {},
   "outputs": [
    {
     "data": {
      "text/html": [
       "<div>\n",
       "<style scoped>\n",
       "    .dataframe tbody tr th:only-of-type {\n",
       "        vertical-align: middle;\n",
       "    }\n",
       "\n",
       "    .dataframe tbody tr th {\n",
       "        vertical-align: top;\n",
       "    }\n",
       "\n",
       "    .dataframe thead th {\n",
       "        text-align: right;\n",
       "    }\n",
       "</style>\n",
       "<table border=\"1\" class=\"dataframe\">\n",
       "  <thead>\n",
       "    <tr style=\"text-align: right;\">\n",
       "      <th></th>\n",
       "      <th>Unnamed: 0_x</th>\n",
       "      <th>order_id</th>\n",
       "      <th>user_id</th>\n",
       "      <th>eval_set</th>\n",
       "      <th>order_number</th>\n",
       "      <th>order_dow</th>\n",
       "      <th>order_hour_of_day</th>\n",
       "      <th>days_since_prior_order</th>\n",
       "      <th>product_id</th>\n",
       "      <th>add_to_cart_order</th>\n",
       "      <th>...</th>\n",
       "      <th>marital_status</th>\n",
       "      <th>income</th>\n",
       "      <th>_merge</th>\n",
       "      <th>region</th>\n",
       "      <th>activity</th>\n",
       "      <th>age_group</th>\n",
       "      <th>income_group</th>\n",
       "      <th>dependents_flag</th>\n",
       "      <th>Profile</th>\n",
       "      <th>price_range_loc</th>\n",
       "    </tr>\n",
       "  </thead>\n",
       "  <tbody>\n",
       "    <tr>\n",
       "      <th>0</th>\n",
       "      <td>0</td>\n",
       "      <td>2539329</td>\n",
       "      <td>1</td>\n",
       "      <td>prior</td>\n",
       "      <td>1</td>\n",
       "      <td>2</td>\n",
       "      <td>8</td>\n",
       "      <td>NaN</td>\n",
       "      <td>196</td>\n",
       "      <td>1</td>\n",
       "      <td>...</td>\n",
       "      <td>married</td>\n",
       "      <td>40423</td>\n",
       "      <td>both</td>\n",
       "      <td>South</td>\n",
       "      <td>high-activity</td>\n",
       "      <td>young</td>\n",
       "      <td>low-income</td>\n",
       "      <td>Yes</td>\n",
       "      <td>Young Parents Low income</td>\n",
       "      <td>Mid-range product</td>\n",
       "    </tr>\n",
       "    <tr>\n",
       "      <th>1</th>\n",
       "      <td>1</td>\n",
       "      <td>2398795</td>\n",
       "      <td>1</td>\n",
       "      <td>prior</td>\n",
       "      <td>2</td>\n",
       "      <td>3</td>\n",
       "      <td>7</td>\n",
       "      <td>15.0</td>\n",
       "      <td>196</td>\n",
       "      <td>1</td>\n",
       "      <td>...</td>\n",
       "      <td>married</td>\n",
       "      <td>40423</td>\n",
       "      <td>both</td>\n",
       "      <td>South</td>\n",
       "      <td>high-activity</td>\n",
       "      <td>young</td>\n",
       "      <td>low-income</td>\n",
       "      <td>Yes</td>\n",
       "      <td>Young Parents Low income</td>\n",
       "      <td>Mid-range product</td>\n",
       "    </tr>\n",
       "    <tr>\n",
       "      <th>2</th>\n",
       "      <td>2</td>\n",
       "      <td>473747</td>\n",
       "      <td>1</td>\n",
       "      <td>prior</td>\n",
       "      <td>3</td>\n",
       "      <td>3</td>\n",
       "      <td>12</td>\n",
       "      <td>21.0</td>\n",
       "      <td>196</td>\n",
       "      <td>1</td>\n",
       "      <td>...</td>\n",
       "      <td>married</td>\n",
       "      <td>40423</td>\n",
       "      <td>both</td>\n",
       "      <td>South</td>\n",
       "      <td>high-activity</td>\n",
       "      <td>young</td>\n",
       "      <td>low-income</td>\n",
       "      <td>Yes</td>\n",
       "      <td>Young Parents Low income</td>\n",
       "      <td>Mid-range product</td>\n",
       "    </tr>\n",
       "    <tr>\n",
       "      <th>3</th>\n",
       "      <td>3</td>\n",
       "      <td>2254736</td>\n",
       "      <td>1</td>\n",
       "      <td>prior</td>\n",
       "      <td>4</td>\n",
       "      <td>4</td>\n",
       "      <td>7</td>\n",
       "      <td>29.0</td>\n",
       "      <td>196</td>\n",
       "      <td>1</td>\n",
       "      <td>...</td>\n",
       "      <td>married</td>\n",
       "      <td>40423</td>\n",
       "      <td>both</td>\n",
       "      <td>South</td>\n",
       "      <td>high-activity</td>\n",
       "      <td>young</td>\n",
       "      <td>low-income</td>\n",
       "      <td>Yes</td>\n",
       "      <td>Young Parents Low income</td>\n",
       "      <td>Mid-range product</td>\n",
       "    </tr>\n",
       "    <tr>\n",
       "      <th>4</th>\n",
       "      <td>4</td>\n",
       "      <td>431534</td>\n",
       "      <td>1</td>\n",
       "      <td>prior</td>\n",
       "      <td>5</td>\n",
       "      <td>4</td>\n",
       "      <td>15</td>\n",
       "      <td>28.0</td>\n",
       "      <td>196</td>\n",
       "      <td>1</td>\n",
       "      <td>...</td>\n",
       "      <td>married</td>\n",
       "      <td>40423</td>\n",
       "      <td>both</td>\n",
       "      <td>South</td>\n",
       "      <td>high-activity</td>\n",
       "      <td>young</td>\n",
       "      <td>low-income</td>\n",
       "      <td>Yes</td>\n",
       "      <td>Young Parents Low income</td>\n",
       "      <td>Mid-range product</td>\n",
       "    </tr>\n",
       "  </tbody>\n",
       "</table>\n",
       "<p>5 rows × 40 columns</p>\n",
       "</div>"
      ],
      "text/plain": [
       "   Unnamed: 0_x  order_id  user_id eval_set  order_number  order_dow  \\\n",
       "0             0   2539329        1    prior             1          2   \n",
       "1             1   2398795        1    prior             2          3   \n",
       "2             2    473747        1    prior             3          3   \n",
       "3             3   2254736        1    prior             4          4   \n",
       "4             4    431534        1    prior             5          4   \n",
       "\n",
       "   order_hour_of_day  days_since_prior_order  product_id  add_to_cart_order  \\\n",
       "0                  8                     NaN         196                  1   \n",
       "1                  7                    15.0         196                  1   \n",
       "2                 12                    21.0         196                  1   \n",
       "3                  7                    29.0         196                  1   \n",
       "4                 15                    28.0         196                  1   \n",
       "\n",
       "   ...  marital_status  income _merge  region       activity  age_group  \\\n",
       "0  ...         married   40423   both   South  high-activity      young   \n",
       "1  ...         married   40423   both   South  high-activity      young   \n",
       "2  ...         married   40423   both   South  high-activity      young   \n",
       "3  ...         married   40423   both   South  high-activity      young   \n",
       "4  ...         married   40423   both   South  high-activity      young   \n",
       "\n",
       "  income_group dependents_flag                   Profile    price_range_loc  \n",
       "0   low-income             Yes  Young Parents Low income  Mid-range product  \n",
       "1   low-income             Yes  Young Parents Low income  Mid-range product  \n",
       "2   low-income             Yes  Young Parents Low income  Mid-range product  \n",
       "3   low-income             Yes  Young Parents Low income  Mid-range product  \n",
       "4   low-income             Yes  Young Parents Low income  Mid-range product  \n",
       "\n",
       "[5 rows x 40 columns]"
      ]
     },
     "execution_count": 69,
     "metadata": {},
     "output_type": "execute_result"
    }
   ],
   "source": [
    "df.head()"
   ]
  },
  {
   "cell_type": "code",
   "execution_count": 70,
   "id": "6176f0d6-eb33-4acd-a9bb-829570b8224b",
   "metadata": {},
   "outputs": [
    {
     "data": {
      "text/plain": [
       "price_range_loc\n",
       "Mid-range product     20891771\n",
       "Low-range product      9674840\n",
       "High-range product      393076\n",
       "nan                       4877\n",
       "Name: count, dtype: int64"
      ]
     },
     "execution_count": 70,
     "metadata": {},
     "output_type": "execute_result"
    }
   ],
   "source": [
    "df['price_range_loc'].value_counts(dropna = False)"
   ]
  },
  {
   "cell_type": "code",
   "execution_count": 72,
   "id": "33e00018-d37e-4703-bd42-7732e993de39",
   "metadata": {},
   "outputs": [
    {
     "data": {
      "text/plain": [
       "<function matplotlib.pyplot.figure(num: 'int | str | Figure | SubFigure | None' = None, figsize: 'tuple[float, float] | None' = None, dpi: 'float | None' = None, *, facecolor: 'ColorType | None' = None, edgecolor: 'ColorType | None' = None, frameon: 'bool' = True, FigureClass: 'type[Figure]' = <class 'matplotlib.figure.Figure'>, clear: 'bool' = False, **kwargs) -> 'Figure'>"
      ]
     },
     "execution_count": 72,
     "metadata": {},
     "output_type": "execute_result"
    },
    {
     "data": {
      "image/png": "[encoded data removed]",
      "text/plain": [
       "<Figure size 640x480 with 1 Axes>"
      ]
     },
     "metadata": {},
     "output_type": "display_data"
    }
   ],
   "source": [
    "price_dist = (df['price_range_loc'].value_counts(normalize=True) * 100).sort_index()\n",
    "price=plt.pie(price_dist, labels=price_dist.index, autopct='%1.1f%%', colors=['blue', 'cyan', 'olive'])\n",
    "plt.figure"
   ]
  },
  {
   "cell_type": "code",
   "execution_count": 76,
   "id": "09cc87d7-26e7-459e-8a78-a38c83ef4a9f",
   "metadata": {},
   "outputs": [
    {
     "data": {
      "text/plain": [
       "<function matplotlib.pyplot.figure(num: 'int | str | Figure | SubFigure | None' = None, figsize: 'tuple[float, float] | None' = None, dpi: 'float | None' = None, *, facecolor: 'ColorType | None' = None, edgecolor: 'ColorType | None' = None, frameon: 'bool' = True, FigureClass: 'type[Figure]' = <class 'matplotlib.figure.Figure'>, clear: 'bool' = False, **kwargs) -> 'Figure'>"
      ]
     },
     "execution_count": 76,
     "metadata": {},
     "output_type": "execute_result"
    },
    {
     "data": {
      "image/png": "[encoded data removed]",
      "text/plain": [
       "<Figure size 640x480 with 1 Axes>"
      ]
     },
     "metadata": {},
     "output_type": "display_data"
    }
   ],
   "source": [
    "# Analysing Loyalty flag\n",
    "loyalty_dist = (df['loyalty_flag'].value_counts(normalize=True) * 100).sort_index()\n",
    "loyalty=plt.pie(loyalty_dist, labels=loyalty_dist.index, autopct='%1.1f%%', colors=['gray', 'orange', 'olive'])\n",
    "plt.figure"
   ]
  },
  {
   "cell_type": "code",
   "execution_count": 86,
   "id": "dc4f4ec9-8608-479e-9e6c-f8d70b272f9d",
   "metadata": {},
   "outputs": [],
   "source": [
    "# Loyalty by region\n",
    "loyalty_region = df.groupby(['region', 'loyalty_flag']).size().unstack()\n"
   ]
  },
  {
   "cell_type": "code",
   "execution_count": 89,
   "id": "072a51a1-ddf0-476d-a903-294846c79e11",
   "metadata": {},
   "outputs": [
    {
     "data": {
      "text/plain": [
       "<Axes: xlabel='region'>"
      ]
     },
     "execution_count": 89,
     "metadata": {},
     "output_type": "execute_result"
    },
    {
     "data": {
      "image/png": "[encoded data removed]",
      "text/plain": [
       "<Figure size 640x480 with 1 Axes>"
      ]
     },
     "metadata": {},
     "output_type": "display_data"
    }
   ],
   "source": [
    "loyalty_region.plot(kind='bar', color=['gray', 'orange', 'olive','blue'])"
   ]
  },
  {
   "cell_type": "code",
   "execution_count": 91,
   "id": "2922a876-0c35-4535-9ceb-38dc0b68fbf2",
   "metadata": {},
   "outputs": [
    {
     "data": {
      "text/plain": [
       "Text(0.5, 1.0, 'Dependents')"
      ]
     },
     "execution_count": 91,
     "metadata": {},
     "output_type": "execute_result"
    },
    {
     "data": {
      "image/png": "[encoded data removed]",
      "text/plain": [
       "<Figure size 640x480 with 1 Axes>"
      ]
     },
     "metadata": {},
     "output_type": "display_data"
    }
   ],
   "source": [
    "# Analysing Dependent\n",
    "dependent_dist = (df['dependents_flag'].value_counts(normalize=True) * 100).sort_index()\n",
    "dependent_pie=plt.pie(dependent_dist, labels=dependent_dist.index, autopct='%1.1f%%', colors=['gray', 'purple'])\n",
    "plt.title('Dependents')"
   ]
  },
  {
   "cell_type": "code",
   "execution_count": 132,
   "id": "8aa54014-fe3f-4406-a78c-2efe1517afdf",
   "metadata": {},
   "outputs": [],
   "source": [
    "# 10. Export final data set\n",
    "df.to_pickle(os.path.join(path, '02 Data','Prepared Data', '4_10_Final_data_set.pkl'))"
   ]
  }
 ],
 "metadata": {
  "kernelspec": {
   "display_name": "Python 3 (ipykernel)",
   "language": "python",
   "name": "python3"
  },
  "language_info": {
   "codemirror_mode": {
    "name": "ipython",
    "version": 3
   },
   "file_extension": ".py",
   "mimetype": "text/x-python",
   "name": "python",
   "nbconvert_exporter": "python",
   "pygments_lexer": "ipython3",
   "version": "3.11.7"
  }
 },
 "nbformat": 4,
 "nbformat_minor": 5
}
